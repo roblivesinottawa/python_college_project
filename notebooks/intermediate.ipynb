{
 "cells": [
  {
   "cell_type": "markdown",
   "metadata": {},
   "source": [
    "# functions"
   ]
  },
  {
   "cell_type": "code",
   "execution_count": 1,
   "metadata": {},
   "outputs": [
    {
     "name": "stdout",
     "output_type": "stream",
     "text": [
      "4\n",
      "5\n"
     ]
    }
   ],
   "source": [
    "# create a function that adds 2 to any number\n",
    "def add2(n):\n",
    "    return n + 2\n",
    "\n",
    "print(add2(2))\n",
    "print(add2(3))"
   ]
  },
  {
   "cell_type": "code",
   "execution_count": 3,
   "metadata": {},
   "outputs": [
    {
     "name": "stdout",
     "output_type": "stream",
     "text": [
      "Hello Rob\n"
     ]
    }
   ],
   "source": [
    "# create a function that returns hello with a name\n",
    "def hello(name):\n",
    "    return \"Hello \" + name\n",
    "\n",
    "name = input(\"What is your name? \")\n",
    "print(hello(name.title()))"
   ]
  },
  {
   "cell_type": "code",
   "execution_count": 5,
   "metadata": {},
   "outputs": [
    {
     "name": "stdout",
     "output_type": "stream",
     "text": [
      "4\n"
     ]
    }
   ],
   "source": [
    "# create a function that takes a number and returns the number times 2\n",
    "def times2(n):\n",
    "    return n * 2\n",
    "\n",
    "print(times2(2))"
   ]
  },
  {
   "cell_type": "code",
   "execution_count": 8,
   "metadata": {},
   "outputs": [
    {
     "name": "stdout",
     "output_type": "stream",
     "text": [
      "300\n",
      "100\n",
      "200\n",
      "10.0\n",
      "8\n",
      "10\n"
     ]
    }
   ],
   "source": [
    "# mathematical operations\n",
    "def add(a, b): return a + b\n",
    "def sub(a, b): return a - b\n",
    "def mul(a, b): return a * b\n",
    "def div(a, b): return a / b\n",
    "def pwr(a, b): return a ** b\n",
    "def flrdiv(a, b): return a // b\n",
    "\n",
    "print(add(200, 100))\n",
    "print(sub(200, 100))\n",
    "print(mul(20, 10))\n",
    "print(div(100, 10))\n",
    "print(pwr(2, 3))\n",
    "print(flrdiv(100, 10))"
   ]
  },
  {
   "cell_type": "code",
   "execution_count": 9,
   "metadata": {},
   "outputs": [
    {
     "name": "stdout",
     "output_type": "stream",
     "text": [
      "55\n"
     ]
    }
   ],
   "source": [
    "# fibonacci sequence in a function\n",
    "def fib(n):\n",
    "    if n == 0: return 0\n",
    "    elif n == 1: return 1\n",
    "    else: return fib(n-1) + fib(n-2)\n",
    "\n",
    "print(fib(10))"
   ]
  },
  {
   "cell_type": "code",
   "execution_count": 14,
   "metadata": {},
   "outputs": [
    {
     "name": "stdout",
     "output_type": "stream",
     "text": [
      "0 1 1 2 3 5 8 13 21 34 55 "
     ]
    }
   ],
   "source": [
    "def fibo(n):\n",
    "    \"\"\"Calculates and returns the nth fibonacci number.\"\"\"\n",
    "    a = 0\n",
    "    b = 1\n",
    "    for i in range(n):\n",
    "        a, b = b, a + b\n",
    "    return a\n",
    "\n",
    "if __name__ == \"__main__\":\n",
    "    for i in range(11): \n",
    "        print(fibo(i), end=\" \")\n"
   ]
  },
  {
   "cell_type": "code",
   "execution_count": 33,
   "metadata": {},
   "outputs": [
    {
     "name": "stdout",
     "output_type": "stream",
     "text": [
      "344.8\n"
     ]
    }
   ],
   "source": [
    "def calculate_mean(numbers):\n",
    "    \"\"\"Calculates the mean of a list of numbers.\"\"\"\n",
    "    return sum(numbers) / len(numbers)\n",
    "\n",
    "numbers = [110, 255, 380, 423, 556]\n",
    "if __name__ == \"__main__\":\n",
    "    print(calculate_mean(numbers))"
   ]
  },
  {
   "cell_type": "code",
   "execution_count": null,
   "metadata": {},
   "outputs": [],
   "source": [
    "def decimalToBinary(n):\n",
    "    \"\"\"Converts a decimal number to binary.\"\"\"\n",
    "    if n > 1:\n",
    "        return decimalToBinary(n // 2) + str(n % 2)\n",
    "    else:\n",
    "        return str(n)"
   ]
  },
  {
   "cell_type": "code",
   "execution_count": 9,
   "metadata": {},
   "outputs": [
    {
     "data": {
      "text/plain": [
       "21"
      ]
     },
     "execution_count": 9,
     "metadata": {},
     "output_type": "execute_result"
    }
   ],
   "source": [
    "# advanced function that converts a binary to decimal\n",
    "binaryToDecimal = lambda binary: sum(1 << i for i, bit in enumerate(binary[::-1]) if bit == '1')\n",
    "binaryToDecimal('10101')"
   ]
  },
  {
   "cell_type": "code",
   "execution_count": 10,
   "metadata": {},
   "outputs": [
    {
     "data": {
      "text/plain": [
       "13"
      ]
     },
     "execution_count": 10,
     "metadata": {},
     "output_type": "execute_result"
    }
   ],
   "source": [
    "binaryToDecimal('1101')"
   ]
  },
  {
   "cell_type": "markdown",
   "metadata": {},
   "source": [
    "# recursive functions"
   ]
  },
  {
   "cell_type": "markdown",
   "metadata": {},
   "source": [
    "recursive functions put a strain on the computer's memory"
   ]
  },
  {
   "cell_type": "code",
   "execution_count": 35,
   "metadata": {},
   "outputs": [
    {
     "data": {
      "text/plain": [
       "6765"
      ]
     },
     "execution_count": 35,
     "metadata": {},
     "output_type": "execute_result"
    }
   ],
   "source": [
    "def fibonacci(n):\n",
    "    if n == 0:\n",
    "        return 0\n",
    "    elif n == 1:\n",
    "        return 1\n",
    "    else:\n",
    "        # the function calls itself\n",
    "        return fibonacci(n-1) + fibonacci(n-2)\n",
    "\n",
    "# fibonacci(0)\n",
    "# fibonacci(1)\n",
    "fibonacci(20)"
   ]
  },
  {
   "cell_type": "code",
   "execution_count": 36,
   "metadata": {},
   "outputs": [
    {
     "name": "stdout",
     "output_type": "stream",
     "text": [
      "0.0038086899994596024\n"
     ]
    }
   ],
   "source": [
    "import timeit\n",
    "\n",
    "t1 = timeit.Timer(\"fibonacci(20)\", \"from __main__ import fibonacci\")\n",
    "print(t1.timeit(number=1))"
   ]
  },
  {
   "cell_type": "code",
   "execution_count": 37,
   "metadata": {},
   "outputs": [
    {
     "data": {
      "text/plain": [
       "102334155"
      ]
     },
     "execution_count": 37,
     "metadata": {},
     "output_type": "execute_result"
    }
   ],
   "source": [
    "fibonacci(40)"
   ]
  },
  {
   "cell_type": "code",
   "execution_count": 38,
   "metadata": {},
   "outputs": [
    {
     "name": "stdout",
     "output_type": "stream",
     "text": [
      "54.74041378600032\n"
     ]
    }
   ],
   "source": [
    "t2 = timeit.Timer(\"fibonacci(40)\", \"from __main__ import fibonacci\")\n",
    "print(t2.timeit(number=1))"
   ]
  },
  {
   "cell_type": "code",
   "execution_count": 46,
   "metadata": {},
   "outputs": [],
   "source": [
    "def copy_contents(source, destination):\n",
    "    \"\"\"Copies the contents of source to destination.\"\"\"\n",
    "    with open(source) as file:\n",
    "        with open(destination, \"w\") as destination:\n",
    "            destination.write(file.read())\n",
    "\n",
    "copy_contents('../files/capitals.txt', '../files/new_capitals.txt')"
   ]
  },
  {
   "cell_type": "code",
   "execution_count": 47,
   "metadata": {},
   "outputs": [
    {
     "name": "stdout",
     "output_type": "stream",
     "text": [
      "Washington\n",
      "London\n",
      "Paris\n",
      "Rome\n",
      "Tokyo\n",
      "\n"
     ]
    }
   ],
   "source": [
    "print(open('../files/new_capitals.txt').read())"
   ]
  },
  {
   "cell_type": "code",
   "execution_count": null,
   "metadata": {},
   "outputs": [],
   "source": []
  },
  {
   "cell_type": "markdown",
   "metadata": {},
   "source": [
    "# object oriented programming"
   ]
  },
  {
   "cell_type": "code",
   "execution_count": 64,
   "metadata": {},
   "outputs": [],
   "source": [
    "class Patient:\n",
    "    '''Medical Centre Patient'''\n",
    "\n",
    "    status = 'admitted'\n",
    "    \n",
    "    def __init__(self, name, age, illness):\n",
    "        self.name = name\n",
    "        self.age = age\n",
    "        self.illness = illness\n",
    "        self.info = []\n",
    "    \n",
    "    def __str__(self):\n",
    "        return f\"Patient: {self.name}, {self.age}, {self.illness}\"\n",
    "\n",
    "    def add_info(self, info):\n",
    "        self.info.append(info)\n",
    "\n",
    "patient1 = Patient('John', 30, 'cold')\n",
    "patient2 = Patient('Mary', 25, 'fever')"
   ]
  },
  {
   "cell_type": "code",
   "execution_count": 65,
   "metadata": {},
   "outputs": [
    {
     "name": "stdout",
     "output_type": "stream",
     "text": [
      "Patient: John, 30, cold\n",
      "Patient: Mary, 25, fever\n"
     ]
    }
   ],
   "source": [
    "print(patient1)\n",
    "print(patient2)"
   ]
  },
  {
   "cell_type": "code",
   "execution_count": 66,
   "metadata": {},
   "outputs": [],
   "source": [
    "patient1.add_info('John is a construction worker who got injured on the job.')"
   ]
  },
  {
   "cell_type": "code",
   "execution_count": 69,
   "metadata": {},
   "outputs": [
    {
     "name": "stdout",
     "output_type": "stream",
     "text": [
      "['John is a construction worker who got injured on the job.']\n"
     ]
    }
   ],
   "source": [
    "print(patient1.info)"
   ]
  },
  {
   "cell_type": "code",
   "execution_count": 70,
   "metadata": {},
   "outputs": [],
   "source": [
    "patient3 = Patient('Steve', 36, 'cancer')"
   ]
  },
  {
   "cell_type": "code",
   "execution_count": 71,
   "metadata": {},
   "outputs": [],
   "source": [
    "patient3.add_info('Steve came in last night complaining of a cold and he can\\'t sleep.')"
   ]
  },
  {
   "cell_type": "code",
   "execution_count": 73,
   "metadata": {},
   "outputs": [
    {
     "name": "stdout",
     "output_type": "stream",
     "text": [
      "Patient: John, 30, cancer\n",
      "[\"Steve came in last night complaining of a cold and he can't sleep.\"]\n"
     ]
    }
   ],
   "source": [
    "print(patient3)\n",
    "print(patient3.info)"
   ]
  },
  {
   "cell_type": "code",
   "execution_count": 74,
   "metadata": {},
   "outputs": [],
   "source": [
    "class Infant(Patient):\n",
    "    '''\n",
    "    Attributes:\n",
    "\n",
    "    ======================  =========================================================\n",
    "    \n",
    "    name: string\n",
    "    age: int\n",
    "    illness: string\n",
    "    status: string\n",
    "    info: list\n",
    "\n",
    "    \n",
    "    '''\n",
    "    def __init__(self, name, age, illness):\n",
    "        super().__init__(name, age, illness)\n",
    "        self.info = []\n",
    "        self.status = 'admitted'\n",
    "\n",
    "    def add_vaccine(self, vaccine):\n",
    "        self.info.append(vaccine)\n",
    "\n",
    "    def __str__(self):\n",
    "        return f\"Infant: {self.name}, {self.age}, {self.illness}\"\n",
    "\n",
    "infant1 = Infant('Mary', 1, 'fever')"
   ]
  },
  {
   "cell_type": "code",
   "execution_count": 77,
   "metadata": {},
   "outputs": [],
   "source": [
    "infant1.add_vaccine('Mary was given a flu shot.')"
   ]
  },
  {
   "cell_type": "code",
   "execution_count": 78,
   "metadata": {},
   "outputs": [
    {
     "name": "stdout",
     "output_type": "stream",
     "text": [
      "Infant: Mary, 1, fever\n",
      "['Mary was given a flu shot.']\n"
     ]
    }
   ],
   "source": [
    "print(infant1)\n",
    "print(infant1.info)"
   ]
  },
  {
   "cell_type": "code",
   "execution_count": null,
   "metadata": {},
   "outputs": [],
   "source": []
  },
  {
   "cell_type": "code",
   "execution_count": 56,
   "metadata": {},
   "outputs": [],
   "source": [
    "class Vehicle:\n",
    "    '''Building the Vehicle blueprint'''\n",
    "    def __init__(self, make, model, year):\n",
    "        self.make = make\n",
    "        self.model = model\n",
    "        self.year = year\n",
    "\n",
    "    def __str__(self):\n",
    "        return f\"This {self.make}, {self.model} was made in {self.year}. \"\n",
    "\n",
    "tesla = Vehicle('Tesla', 'Model S', 2016)"
   ]
  },
  {
   "cell_type": "code",
   "execution_count": 57,
   "metadata": {},
   "outputs": [
    {
     "name": "stdout",
     "output_type": "stream",
     "text": [
      "This Tesla, Model S was made in 2016 \n"
     ]
    }
   ],
   "source": [
    "print(tesla)"
   ]
  },
  {
   "cell_type": "code",
   "execution_count": 58,
   "metadata": {},
   "outputs": [],
   "source": [
    "class Truck(Vehicle):\n",
    "    '''Building the Truck class'''\n",
    "    def __init__(self, make, model, year, bed_type):\n",
    "        super().__init__(make, model, year)\n",
    "        self.bed_type = bed_type\n",
    "\n",
    "    def __str__(self):\n",
    "        return f\"This {self.make}, {self.model} was made in {self.year}. It has a {self.bed_type} bed.\"\n",
    "\n",
    "tesla_truck = Truck('Tesla', 'Cybertruck', 2021, 'Short')"
   ]
  },
  {
   "cell_type": "code",
   "execution_count": 59,
   "metadata": {},
   "outputs": [
    {
     "name": "stdout",
     "output_type": "stream",
     "text": [
      "This Tesla, Cybertruck was made in 2021. It has a Short bed.\n"
     ]
    }
   ],
   "source": [
    "print(tesla_truck)"
   ]
  },
  {
   "cell_type": "code",
   "execution_count": 62,
   "metadata": {},
   "outputs": [],
   "source": [
    "class Bicycle(Vehicle):\n",
    "    '''Building the Bicycle class'''\n",
    "    def __init__(self, make, model, year, color):\n",
    "        super().__init__(make, model, year)\n",
    "        self.color = color\n",
    "\n",
    "    def __str__(self):\n",
    "        return f\"This {self.make}, of type {self.model} was made in {self.year}. It is {self.color}.\"\n",
    "\n",
    "bike = Bicycle('Bike', 'Racer', 2019, 'Red')"
   ]
  },
  {
   "cell_type": "code",
   "execution_count": 63,
   "metadata": {},
   "outputs": [
    {
     "name": "stdout",
     "output_type": "stream",
     "text": [
      "This Bike, of type Racer was made in 2019. It is Red.\n"
     ]
    }
   ],
   "source": [
    "print(bike)"
   ]
  },
  {
   "cell_type": "code",
   "execution_count": 1,
   "metadata": {},
   "outputs": [],
   "source": [
    "class Vehicle:\n",
    "    '''Building the Vehicle blueprint'''\n",
    "    def __init__(self, make, model, year):\n",
    "        self.make = make\n",
    "        self.model = model\n",
    "        self.year = year\n",
    "\n",
    "    def __str__(self):\n",
    "        return f\"This {self.make}, {self.model} was made in {self.year}. \"\n",
    "\n",
    "\n",
    "class Truck(Vehicle):\n",
    "    '''Building the Truck class'''\n",
    "    def __init__(self, make, model, year, bed_type):\n",
    "        super().__init__(make, model, year)\n",
    "        self.bed_type = bed_type\n",
    "\n",
    "    def __str__(self):\n",
    "        return f\"This {self.make}, {self.model} was made in {self.year}. It has a {self.bed_type} bed.\"\n",
    "\n",
    "\n",
    "class Bicycle(Vehicle):\n",
    "    '''Building the Bicycle class'''\n",
    "    def __init__(self, make, model, year, color):\n",
    "        super().__init__(make, model, year)\n",
    "        self.color = color\n",
    "\n",
    "    def __str__(self):\n",
    "        return f\"This {self.make}, of type {self.model} was made in {self.year}. It is {self.color}.\"\n",
    "\n",
    "\n",
    "\n",
    "tesla = Vehicle('Tesla', 'Model S', 2016)\n",
    "tesla_truck = Truck('Tesla', 'Cybertruck', 2021, 'Short')\n",
    "bike = Bicycle('Bike', 'Racer', 2019, 'Red')"
   ]
  },
  {
   "cell_type": "code",
   "execution_count": 7,
   "metadata": {},
   "outputs": [
    {
     "name": "stdout",
     "output_type": "stream",
     "text": [
      "This Tesla, Model S was made in 2016. \n",
      "This Tesla, Cybertruck was made in 2021. It has a Short bed.\n",
      "This Bike, of type Racer was made in 2019. It is Red.\n"
     ]
    }
   ],
   "source": [
    "print(tesla, tesla_truck, bike, sep='\\n')"
   ]
  },
  {
   "cell_type": "code",
   "execution_count": null,
   "metadata": {},
   "outputs": [],
   "source": []
  }
 ],
 "metadata": {
  "interpreter": {
   "hash": "916dbcbb3f70747c44a77c7bcd40155683ae19c65e1c03b4aa3499c5328201f1"
  },
  "kernelspec": {
   "display_name": "Python 3.8.10 64-bit",
   "name": "python3"
  },
  "language_info": {
   "codemirror_mode": {
    "name": "ipython",
    "version": 3
   },
   "file_extension": ".py",
   "mimetype": "text/x-python",
   "name": "python",
   "nbconvert_exporter": "python",
   "pygments_lexer": "ipython3",
   "version": "3.8.9"
  },
  "orig_nbformat": 4
 },
 "nbformat": 4,
 "nbformat_minor": 2
}
