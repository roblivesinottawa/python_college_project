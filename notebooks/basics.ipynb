{
 "cells": [
  {
   "cell_type": "markdown",
   "metadata": {},
   "source": [
    "# tabs and new lines"
   ]
  },
  {
   "cell_type": "code",
   "execution_count": 1,
   "metadata": {},
   "outputs": [
    {
     "name": "stdout",
     "output_type": "stream",
     "text": [
      "This is a \n",
      " new line\n"
     ]
    }
   ],
   "source": [
    "print('This is a \\n new line')"
   ]
  },
  {
   "cell_type": "code",
   "execution_count": 2,
   "metadata": {},
   "outputs": [
    {
     "name": "stdout",
     "output_type": "stream",
     "text": [
      "This is a \t tab\n"
     ]
    }
   ],
   "source": [
    "print('This is a \\t tab')"
   ]
  },
  {
   "cell_type": "code",
   "execution_count": 3,
   "metadata": {},
   "outputs": [
    {
     "name": "stdout",
     "output_type": "stream",
     "text": [
      "all \n",
      " in \n",
      "a \n",
      " new \n",
      " line\n"
     ]
    }
   ],
   "source": [
    "print('all \\n in \\na \\n new \\n line')"
   ]
  },
  {
   "cell_type": "markdown",
   "metadata": {},
   "source": [
    "# variables"
   ]
  },
  {
   "cell_type": "code",
   "execution_count": 4,
   "metadata": {},
   "outputs": [
    {
     "name": "stdout",
     "output_type": "stream",
     "text": [
      "15\n"
     ]
    }
   ],
   "source": [
    "x = 5\n",
    "y = 10\n",
    "print(x + y)"
   ]
  },
  {
   "cell_type": "code",
   "execution_count": 5,
   "metadata": {},
   "outputs": [
    {
     "name": "stdout",
     "output_type": "stream",
     "text": [
      "50\n"
     ]
    }
   ],
   "source": [
    "z = x * y\n",
    "print(z)"
   ]
  },
  {
   "cell_type": "code",
   "execution_count": 8,
   "metadata": {},
   "outputs": [
    {
     "name": "stdout",
     "output_type": "stream",
     "text": [
      "John\n"
     ]
    }
   ],
   "source": [
    "name = 'John'\n",
    "print(name)"
   ]
  },
  {
   "cell_type": "code",
   "execution_count": 9,
   "metadata": {},
   "outputs": [
    {
     "name": "stdout",
     "output_type": "stream",
     "text": [
      "my name is \n"
     ]
    }
   ],
   "source": [
    "name = input('What is your name? ')\n",
    "answer = f\"my name is {name}\"\n",
    "print(answer)"
   ]
  },
  {
   "cell_type": "code",
   "execution_count": null,
   "metadata": {},
   "outputs": [
    {
     "name": "stdout",
     "output_type": "stream",
     "text": [
      "15.700000000000001\n"
     ]
    }
   ],
   "source": [
    "pi = 3.14\n",
    "a = pi * 5\n",
    "print(a)"
   ]
  },
  {
   "cell_type": "code",
   "execution_count": null,
   "metadata": {},
   "outputs": [
    {
     "name": "stdout",
     "output_type": "stream",
     "text": [
      "19.625\n"
     ]
    }
   ],
   "source": [
    "radius = 2.5\n",
    "pi = 3.14\n",
    "area = pi * radius ** 2\n",
    "print(area)"
   ]
  },
  {
   "cell_type": "markdown",
   "metadata": {},
   "source": [
    "# strings"
   ]
  },
  {
   "cell_type": "code",
   "execution_count": null,
   "metadata": {},
   "outputs": [
    {
     "name": "stdout",
     "output_type": "stream",
     "text": [
      "The cat sit on the mat. And the dog did as well.\n"
     ]
    }
   ],
   "source": [
    "sentence = 'The cat sit on the mat.'\n",
    "sentence2 = 'And the dog did as well.'\n",
    "sentence3 = sentence + \" \" + sentence2\n",
    "print(sentence3)"
   ]
  },
  {
   "cell_type": "code",
   "execution_count": null,
   "metadata": {},
   "outputs": [
    {
     "name": "stdout",
     "output_type": "stream",
     "text": [
      "35\n",
      "I'm 35 years old.\n"
     ]
    }
   ],
   "source": [
    "age = input('How old are you?\\n')\n",
    "answer = f\"I'm {age} years old.\"\n",
    "print(age)\n",
    "print(answer)"
   ]
  },
  {
   "cell_type": "code",
   "execution_count": null,
   "metadata": {},
   "outputs": [
    {
     "name": "stdout",
     "output_type": "stream",
     "text": [
      "Johnson\n"
     ]
    }
   ],
   "source": [
    "user_input = input('what is your last name? >>> ')\n",
    "print(user_input.title())"
   ]
  },
  {
   "cell_type": "code",
   "execution_count": null,
   "metadata": {},
   "outputs": [
    {
     "data": {
      "text/plain": [
       "'U'"
      ]
     },
     "execution_count": 27,
     "metadata": {},
     "output_type": "execute_result"
    }
   ],
   "source": [
    "# string slicing\n",
    "country = 'United States of America'\n",
    "country[0]"
   ]
  },
  {
   "cell_type": "code",
   "execution_count": null,
   "metadata": {},
   "outputs": [
    {
     "data": {
      "text/plain": [
       "'United'"
      ]
     },
     "execution_count": 29,
     "metadata": {},
     "output_type": "execute_result"
    }
   ],
   "source": [
    "country[0:6]"
   ]
  },
  {
   "cell_type": "code",
   "execution_count": null,
   "metadata": {},
   "outputs": [
    {
     "data": {
      "text/plain": [
       "'States'"
      ]
     },
     "execution_count": 31,
     "metadata": {},
     "output_type": "execute_result"
    }
   ],
   "source": [
    "country[7:13]"
   ]
  },
  {
   "cell_type": "code",
   "execution_count": null,
   "metadata": {},
   "outputs": [
    {
     "data": {
      "text/plain": [
       "'united states of america'"
      ]
     },
     "execution_count": 32,
     "metadata": {},
     "output_type": "execute_result"
    }
   ],
   "source": [
    "country.lower()"
   ]
  },
  {
   "cell_type": "code",
   "execution_count": null,
   "metadata": {},
   "outputs": [
    {
     "data": {
      "text/plain": [
       "'UNITED STATES OF AMERICA'"
      ]
     },
     "execution_count": 33,
     "metadata": {},
     "output_type": "execute_result"
    }
   ],
   "source": [
    "country.upper()"
   ]
  },
  {
   "cell_type": "code",
   "execution_count": null,
   "metadata": {},
   "outputs": [
    {
     "data": {
      "text/plain": [
       "'United States Of America'"
      ]
     },
     "execution_count": 34,
     "metadata": {},
     "output_type": "execute_result"
    }
   ],
   "source": [
    "country.title()"
   ]
  },
  {
   "cell_type": "code",
   "execution_count": null,
   "metadata": {},
   "outputs": [],
   "source": []
  },
  {
   "cell_type": "markdown",
   "metadata": {},
   "source": [
    "# asking the editor for help"
   ]
  },
  {
   "cell_type": "code",
   "execution_count": null,
   "metadata": {},
   "outputs": [
    {
     "name": "stdout",
     "output_type": "stream",
     "text": [
      "\n",
      "Welcome to Python 3.8's help utility!\n",
      "\n",
      "If this is your first time using Python, you should definitely check out\n",
      "the tutorial on the Internet at https://docs.python.org/3.8/tutorial/.\n",
      "\n",
      "Enter the name of any module, keyword, or topic to get help on writing\n",
      "Python programs and using Python modules.  To quit this help utility and\n",
      "return to the interpreter, just type \"quit\".\n",
      "\n",
      "To get a list of available modules, keywords, symbols, or topics, type\n",
      "\"modules\", \"keywords\", \"symbols\", or \"topics\".  Each module also comes\n",
      "with a one-line summary of what it does; to list the modules whose name\n",
      "or summary contain a given string such as \"spam\", type \"modules spam\".\n",
      "\n",
      "\n",
      "You are now leaving help and returning to the Python interpreter.\n",
      "If you want to ask for help on a particular object directly from the\n",
      "interpreter, you can type \"help(object)\".  Executing \"help('string')\"\n",
      "has the same effect as typing a particular string at the help> prompt.\n"
     ]
    }
   ],
   "source": [
    "help()"
   ]
  },
  {
   "cell_type": "markdown",
   "metadata": {},
   "source": [
    "# simple programs"
   ]
  },
  {
   "cell_type": "code",
   "execution_count": null,
   "metadata": {},
   "outputs": [
    {
     "name": "stdout",
     "output_type": "stream",
     "text": [
      "The weather in celsius is 30.\n",
      "The weather in farenheit is 86.0\n"
     ]
    }
   ],
   "source": [
    "# write a program that asks the user for weather in celsius and then the program converts the weather to farenheit\n",
    "celsius = input('what is the temperature in celsius? ')\n",
    "fahrenheit = (float(celsius) * 9/5) + 32\n",
    "print(f\"The weather in celsius is {celsius}.\")\n",
    "print(f\"The weather in farenheit is {fahrenheit}\")"
   ]
  },
  {
   "cell_type": "code",
   "execution_count": null,
   "metadata": {},
   "outputs": [
    {
     "name": "stdout",
     "output_type": "stream",
     "text": [
      "The weather in farenheit is 100.\n",
      "The weather in celsius is 37.77777777777778\n"
     ]
    }
   ],
   "source": [
    "# write a program that asks the user for weather in farenheit and then the program converts the weather to celsius\n",
    "fahrenheit = input('what is the temperature in farenheit? ')\n",
    "celsius = (float(fahrenheit) - 32) * 5/9\n",
    "print(f\"The weather in farenheit is {fahrenheit}.\")\n",
    "print(f\"The weather in celsius is {celsius}\")"
   ]
  },
  {
   "cell_type": "code",
   "execution_count": null,
   "metadata": {},
   "outputs": [
    {
     "name": "stdout",
     "output_type": "stream",
     "text": [
      "The area of the circle is 19.625\n"
     ]
    }
   ],
   "source": [
    "# ask the user for the radius of an area then print the area\n",
    "user_input = float(input('Please enter the radius of the circle: >>>'))\n",
    "pi = 3.14\n",
    "area = pi * radius ** 2\n",
    "print(f\"The area of the circle is {area}\")"
   ]
  },
  {
   "cell_type": "code",
   "execution_count": null,
   "metadata": {},
   "outputs": [
    {
     "name": "stdout",
     "output_type": "stream",
     "text": [
      "656\n"
     ]
    }
   ],
   "source": [
    "# obtain the sum of two integers\n",
    "first = int(input('Please, enter the first integer: '))\n",
    "second = int(input('Please, enter the second integer: '))\n",
    "result = first + second\n",
    "print(result)"
   ]
  },
  {
   "cell_type": "code",
   "execution_count": null,
   "metadata": {},
   "outputs": [
    {
     "name": "stdout",
     "output_type": "stream",
     "text": [
      "The result of the product of 10 and 20 is 200 \n"
     ]
    }
   ],
   "source": [
    "# obtain the product of two integers\n",
    "first_int = int(input('Enter first integer: '))\n",
    "second_int = int(input('Enter second integer: '))\n",
    "result = f\"The result of the product of {first_int} and {second_int} is {first_int * second_int} \"\n",
    "print(result)"
   ]
  },
  {
   "cell_type": "code",
   "execution_count": null,
   "metadata": {},
   "outputs": [
    {
     "name": "stdout",
     "output_type": "stream",
     "text": [
      "You will need 3 pizzas to feed all the people.\n",
      "You will have 2 slices left over.\n"
     ]
    }
   ],
   "source": [
    "total_slices = 4 * 4\n",
    "number_of_pizzas = (total_slices + 5) // 6\n",
    "slices_left = number_of_pizzas * 6 - total_slices\n",
    "print(f\"You will need {number_of_pizzas} pizzas to feed all the people.\")\n",
    "print(f\"You will have {slices_left} slices left over.\")"
   ]
  },
  {
   "cell_type": "code",
   "execution_count": null,
   "metadata": {},
   "outputs": [
    {
     "name": "stdout",
     "output_type": "stream",
     "text": [
      "1345\n"
     ]
    }
   ],
   "source": [
    "# given two numbers, write a program that will find the maximum number\n",
    "x = 786\n",
    "y = 1345\n",
    "\n",
    "if x >= y: print(x)\n",
    "elif y >= x: print(y)"
   ]
  },
  {
   "cell_type": "code",
   "execution_count": null,
   "metadata": {},
   "outputs": [
    {
     "name": "stdout",
     "output_type": "stream",
     "text": [
      "The factorial of 20 is 8828514807271391232000000\n"
     ]
    }
   ],
   "source": [
    "# find the factorial of an integer\n",
    "fact = 1\n",
    "num = int(input(\"Enter an integer to calculate factorial: \"))\n",
    "for n in range(1, num+1):\n",
    "    factorial = factorial * n\n",
    "print(f\"The factorial of {num} is {factorial}\")\n"
   ]
  },
  {
   "cell_type": "code",
   "execution_count": null,
   "metadata": {},
   "outputs": [
    {
     "name": "stdout",
     "output_type": "stream",
     "text": [
      "the fibonacci of 10 is 55\n"
     ]
    }
   ],
   "source": [
    "# find the fibonacci of a number\n",
    "fib = 1\n",
    "fibonacci = 0\n",
    "num = int(input('enter an integer to calculate fibonacci: '))\n",
    "for n in range(1, num+1):\n",
    "    fibonacci = fibonacci + fib\n",
    "    fib = fibonacci - fib\n",
    "print(f'the fibonacci of {num} is {fibonacci}')"
   ]
  },
  {
   "cell_type": "markdown",
   "metadata": {},
   "source": [
    "# conditionals"
   ]
  },
  {
   "cell_type": "code",
   "execution_count": null,
   "metadata": {},
   "outputs": [
    {
     "name": "stdout",
     "output_type": "stream",
     "text": [
      "45\n"
     ]
    }
   ],
   "source": [
    "x = int(input('enter an integer: '))\n",
    "y = int(input('enter another integer: '))\n",
    "result = x if x > y else y\n",
    "print(result)"
   ]
  },
  {
   "cell_type": "code",
   "execution_count": null,
   "metadata": {},
   "outputs": [
    {
     "name": "stdout",
     "output_type": "stream",
     "text": [
      "warm\n"
     ]
    }
   ],
   "source": [
    "weather = int(input('What is the weather like? '))\n",
    "res = 'hot' if weather >=20 else 'warm' if weather >=10 else 'cold' if weather >=0 else 'freezing'\n",
    "print(res)"
   ]
  },
  {
   "cell_type": "code",
   "execution_count": null,
   "metadata": {},
   "outputs": [
    {
     "name": "stdout",
     "output_type": "stream",
     "text": [
      "[1, 3, 5, 7, 9]\n"
     ]
    }
   ],
   "source": [
    "nums = [1, 2, 3, 4, 5, 6, 7, 8, 9, 10]\n",
    "odds = [num for num in nums if num % 2 != 0]\n",
    "print(odds)"
   ]
  },
  {
   "cell_type": "code",
   "execution_count": null,
   "metadata": {},
   "outputs": [
    {
     "name": "stdout",
     "output_type": "stream",
     "text": [
      "[True, True, True, True, True]\n"
     ]
    }
   ],
   "source": [
    "x = [1,2,3,4,5]\n",
    "y = [6,7,8,9,10]\n",
    "res = [True for x, y in zip(x, y) if y > x]\n",
    "print(res)"
   ]
  },
  {
   "cell_type": "code",
   "execution_count": null,
   "metadata": {},
   "outputs": [
    {
     "name": "stdout",
     "output_type": "stream",
     "text": [
      "[30]\n"
     ]
    }
   ],
   "source": [
    "x, y, z = 10, 20, 30\n",
    "res = [x if x >= y else y if y >= z else z]\n",
    "print(res)"
   ]
  },
  {
   "cell_type": "code",
   "execution_count": null,
   "metadata": {},
   "outputs": [
    {
     "name": "stdout",
     "output_type": "stream",
     "text": [
      "number = [21]\n"
     ]
    }
   ],
   "source": [
    "from random import randint\n",
    "x, y, z = randint(1, 10), randint(10, 20), randint(20, 30)\n",
    "res = [x if x >= y else y if y >= z else z]\n",
    "print(f\"number = {res}\")"
   ]
  },
  {
   "cell_type": "code",
   "execution_count": null,
   "metadata": {},
   "outputs": [
    {
     "name": "stdout",
     "output_type": "stream",
     "text": [
      "-10\n",
      "freezing\n"
     ]
    }
   ],
   "source": [
    "temp = int(input('Enter the temperature in Celsius: >>>'))\n",
    "res = 'wear some light clothes' if temp >= 20 else 'wear something light but not too light' if temp >= 10 else 'bring a jacket' if temp >= 0 else 'freezing'\n",
    "print(temp)\n",
    "print(res)"
   ]
  },
  {
   "cell_type": "code",
   "execution_count": null,
   "metadata": {},
   "outputs": [
    {
     "name": "stdout",
     "output_type": "stream",
     "text": [
      "you lose\n"
     ]
    }
   ],
   "source": [
    "word = 'winter'\n",
    "guess = input('Enter a word. (Hint: it is a season.): ')\n",
    "print('you win' if guess == word else 'you lose')\n",
    "\n"
   ]
  },
  {
   "cell_type": "code",
   "execution_count": null,
   "metadata": {},
   "outputs": [
    {
     "name": "stdout",
     "output_type": "stream",
     "text": [
      "seven\n"
     ]
    }
   ],
   "source": [
    "# not a very good example of using if statements\n",
    "user_input = int(input('Enter a number between 1 and 10: '))\n",
    "print('one' if user_input == 1 else 'two' if user_input == 2 else 'three' if user_input == 3 else 'four' if user_input == 4 else 'five' if user_input == 5 else 'six' if user_input == 6 else 'seven' if user_input == 7 else 'eight' if user_input == 8 else 'nine' if user_input == 9 else 'ten' if user_input == 10 else 'not a number between 1 and 10')"
   ]
  },
  {
   "cell_type": "code",
   "execution_count": null,
   "metadata": {},
   "outputs": [
    {
     "name": "stdout",
     "output_type": "stream",
     "text": [
      "you guessed too low\n"
     ]
    }
   ],
   "source": [
    "secret_number = randint(1, 10)\n",
    "guess = int(input('Guess a number between 1 and 10: '))\n",
    "print('you win' if guess == secret_number else 'you guessed too high' if guess > 10 else 'you guessed too low' if guess < 1 else 'you guessed wrong')"
   ]
  },
  {
   "cell_type": "code",
   "execution_count": null,
   "metadata": {},
   "outputs": [
    {
     "name": "stdout",
     "output_type": "stream",
     "text": [
      "you entered 15 and 15\n",
      "0\n"
     ]
    }
   ],
   "source": [
    "num_one = int(input('Enter an integer between 1 and 10: '))\n",
    "num_two = int(input('Enter another integer between 10 and 20: '))\n",
    "print(f'you entered {num_one} and {num_two}')\n",
    "if num_one > 15 and num_two > 15: print(num_one * num_two)\n",
    "elif num_one > 15 or num_two > 15: print(num_one + num_two)\n",
    "else: print(num_one - num_two)\n"
   ]
  },
  {
   "cell_type": "code",
   "execution_count": null,
   "metadata": {},
   "outputs": [
    {
     "name": "stdout",
     "output_type": "stream",
     "text": [
      "Before swapping first integer = 30 and second integer = 50\n",
      "After swapping first integer = 50 and second integer = 30\n"
     ]
    }
   ],
   "source": [
    "first = int(input('Enter first integer: '))\n",
    "second = int(input('Enter second integer: '))\n",
    "print(f'Before swapping first integer = {first} and second integer = {second}')\n",
    "first, second = second, first\n",
    "print(f'After swapping first integer = {first} and second integer = {second}')"
   ]
  },
  {
   "cell_type": "code",
   "execution_count": null,
   "metadata": {},
   "outputs": [],
   "source": []
  },
  {
   "cell_type": "markdown",
   "metadata": {},
   "source": [
    "# loops"
   ]
  },
  {
   "cell_type": "code",
   "execution_count": null,
   "metadata": {},
   "outputs": [
    {
     "name": "stdout",
     "output_type": "stream",
     "text": [
      "2\n",
      "4\n",
      "6\n",
      "8\n",
      "10\n"
     ]
    },
    {
     "data": {
      "text/plain": [
       "[None, None, None, None, None]"
      ]
     },
     "execution_count": 54,
     "metadata": {},
     "output_type": "execute_result"
    }
   ],
   "source": [
    "nums = [1,2,3,4,5,6,7,8,9,10]\n",
    "[print(num) for num in nums if num % 2 == 0]"
   ]
  },
  {
   "cell_type": "code",
   "execution_count": null,
   "metadata": {},
   "outputs": [
    {
     "name": "stdout",
     "output_type": "stream",
     "text": [
      "1\n",
      "2\n",
      "3\n",
      "4\n",
      "5\n",
      "6\n",
      "7\n",
      "8\n",
      "9\n",
      "10\n"
     ]
    },
    {
     "data": {
      "text/plain": [
       "[None, None, None, None, None, None, None, None, None, None]"
      ]
     },
     "execution_count": 57,
     "metadata": {},
     "output_type": "execute_result"
    }
   ],
   "source": [
    "[print(n) for n in range(1, 11)]"
   ]
  },
  {
   "cell_type": "code",
   "execution_count": null,
   "metadata": {},
   "outputs": [
    {
     "data": {
      "text/plain": [
       "[1, 2, 3, 4, 5, 6, 7, 8, 9, 10]"
      ]
     },
     "execution_count": 2,
     "metadata": {},
     "output_type": "execute_result"
    }
   ],
   "source": [
    "[n for n in range(1, 11)]"
   ]
  },
  {
   "cell_type": "code",
   "execution_count": null,
   "metadata": {},
   "outputs": [
    {
     "name": "stdout",
     "output_type": "stream",
     "text": [
      "1 3 5 7 9 11 13 15 17 19 "
     ]
    }
   ],
   "source": [
    "for x in range(1, 20, 2):\n",
    "    print(x, end=' ')"
   ]
  },
  {
   "cell_type": "code",
   "execution_count": null,
   "metadata": {},
   "outputs": [
    {
     "name": "stdout",
     "output_type": "stream",
     "text": [
      "h\n",
      "e\n",
      "l\n",
      "l\n",
      "o\n"
     ]
    }
   ],
   "source": [
    "word = 'hello'\n",
    "for w in word:\n",
    "    print(w)"
   ]
  },
  {
   "cell_type": "code",
   "execution_count": null,
   "metadata": {},
   "outputs": [
    {
     "name": "stdout",
     "output_type": "stream",
     "text": [
      "it's hot. wear some light clothes.\n"
     ]
    }
   ],
   "source": [
    "hot = True\n",
    "while hot:\n",
    "    print(\"it's hot. wear some light clothes.\")\n",
    "    hot = False"
   ]
  },
  {
   "cell_type": "code",
   "execution_count": null,
   "metadata": {},
   "outputs": [
    {
     "name": "stdout",
     "output_type": "stream",
     "text": [
      "you have 3 lives left\n",
      "you have 2 lives left\n",
      "you have 1 lives left\n"
     ]
    }
   ],
   "source": [
    "lives = 3\n",
    "while lives > 0 and lives <= 3:\n",
    "    print(f'you have {lives} lives left')\n",
    "    lives -= 1"
   ]
  },
  {
   "cell_type": "code",
   "execution_count": null,
   "metadata": {},
   "outputs": [
    {
     "name": "stdout",
     "output_type": "stream",
     "text": [
      "you guessed it wrong. Try again.\n",
      "you guessed it wrong. Try again.\n",
      "you guessed it wrong. Try again.\n",
      "you lose\n"
     ]
    }
   ],
   "source": [
    "tries = 0\n",
    "secret_number = randint(1, 10)\n",
    "while tries < 3:\n",
    "    guess = int(input('Enter a number between 1 and 10: '))\n",
    "    if guess == secret_number:\n",
    "        print('you win')\n",
    "        break\n",
    "    tries += 1\n",
    "    print('you guessed it wrong. Try again.')\n",
    "else:\n",
    "    if tries == 3:\n",
    "        print('you lose')\n",
    "    "
   ]
  },
  {
   "cell_type": "code",
   "execution_count": null,
   "metadata": {},
   "outputs": [
    {
     "name": "stdout",
     "output_type": "stream",
     "text": [
      "The names entered are ['rob', 'vick']\n"
     ]
    }
   ],
   "source": [
    "user_input = input('Enter your name: >>>')\n",
    "\n",
    "names = []\n",
    "while user_input != 'quit':\n",
    "    names.append(user_input)\n",
    "    user_input = input('Enter name again: >>>')\n",
    "print(f\"The names entered are {names}\")"
   ]
  },
  {
   "cell_type": "code",
   "execution_count": null,
   "metadata": {},
   "outputs": [
    {
     "name": "stdout",
     "output_type": "stream",
     "text": [
      "1\n",
      "2\n",
      "3: fizzbuzz\n",
      "4\n",
      "5: buzz\n",
      "6: fizzbuzz\n",
      "7\n",
      "8\n",
      "9: fizzbuzz\n",
      "10: buzz\n",
      "11\n",
      "12: fizzbuzz\n",
      "13\n",
      "14\n",
      "15: fizzbuzz\n",
      "16\n",
      "17\n",
      "18: fizzbuzz\n",
      "19\n",
      "20: buzz\n"
     ]
    }
   ],
   "source": [
    "n = 20\n",
    "for i in range(1, n+1):\n",
    "    [print(f\"{i}: fizzbuzz\") if i % 3 == 0 and i % 3 == 0 else print(f\"{i}: fizz\") if i % 3 == 0 else print(f\"{i}: buzz\") if i % 5 == 0 else print(i)]\n",
    "  "
   ]
  },
  {
   "cell_type": "code",
   "execution_count": null,
   "metadata": {},
   "outputs": [
    {
     "name": "stdout",
     "output_type": "stream",
     "text": [
      "34 35 36 37 38 39 40 "
     ]
    }
   ],
   "source": [
    "# ask user for two numbers\n",
    "num_one = int(input('Enter first integer between 1 and 50: '))\n",
    "num_two = int(input('Enter second integer between 1 and 50: '))\n",
    "\n",
    "# check if the numbers are valid\n",
    "while num_one < 0 or num_two < 0 or num_one > 50 or num_two > 50 or num_one == num_two:\n",
    "    print('invalid input')\n",
    "    num_one = int(input('Enter first integer between 1 and 50: '))\n",
    "    num_two = int(input('Enter second integer between 1 and 50: '))\n",
    "\n",
    "\n",
    "if num_one < num_two:\n",
    "    for i in range(num_one, num_two+1):\n",
    "        print(i, end=\" \")\n",
    "else:\n",
    "    for i in range(num_two, num_one+1):\n",
    "        print(i, end=\" \")\n",
    "  "
   ]
  },
  {
   "cell_type": "code",
   "execution_count": null,
   "metadata": {},
   "outputs": [
    {
     "name": "stdout",
     "output_type": "stream",
     "text": [
      "olleh\n"
     ]
    }
   ],
   "source": [
    "user_input = input('Enter a word: >>>')\n",
    "reversed_word = ''\n",
    "\n",
    "for char in user_input:\n",
    "    reversed_word = char + reversed_word\n",
    "print(reversed_word)"
   ]
  },
  {
   "cell_type": "code",
   "execution_count": null,
   "metadata": {},
   "outputs": [
    {
     "data": {
      "text/plain": [
       "'olleh'"
      ]
     },
     "execution_count": 55,
     "metadata": {},
     "output_type": "execute_result"
    }
   ],
   "source": [
    "# easier way to reverse a string\n",
    "user_input[::-1]"
   ]
  },
  {
   "cell_type": "code",
   "execution_count": null,
   "metadata": {},
   "outputs": [
    {
     "name": "stdout",
     "output_type": "stream",
     "text": [
      "---------------------------------------\n",
      "5 ** 1 = 5\n",
      "5 ** 2 = 25\n",
      "5 ** 3 = 125\n",
      "5 ** 4 = 625\n",
      "5 ** 5 = 3125\n",
      "5 ** 6 = 15625\n",
      "5 ** 7 = 78125\n",
      "5 ** 8 = 390625\n",
      "5 ** 9 = 1953125\n",
      "5 ** 10 = 9765625\n",
      "---------------------------------------\n"
     ]
    }
   ],
   "source": [
    "# check the power of a number\n",
    "num = input('please enter an integer between 1 and 10 to verify its power: >>>')\n",
    "\n",
    "while (not num.isdigit()) or int(num) < 1 or int(num) > 10:\n",
    "    print('please enter another integer betwen 1 and 10')\n",
    "    num = input('please enter an integer between 1 and 10 to verify its power: >>>')\n",
    "num = int(num)\n",
    "print('---------------------------------------')\n",
    "for x in range(1, 11):\n",
    "    print(f\"{num} ** {x} = {num ** x}\")\n",
    "print('---------------------------------------')\n"
   ]
  },
  {
   "cell_type": "code",
   "execution_count": null,
   "metadata": {},
   "outputs": [
    {
     "name": "stdout",
     "output_type": "stream",
     "text": [
      "================================\n",
      "15 x 1 = 15\n",
      "15 x 2 = 30\n",
      "15 x 3 = 45\n",
      "15 x 4 = 60\n",
      "15 x 5 = 75\n",
      "15 x 6 = 90\n",
      "15 x 7 = 105\n",
      "15 x 8 = 120\n",
      "15 x 9 = 135\n",
      "15 x 10 = 150\n",
      "15 x 11 = 165\n",
      "15 x 12 = 180\n",
      "15 x 13 = 195\n",
      "15 x 14 = 210\n",
      "15 x 15 = 225\n",
      "15 x 16 = 240\n",
      "15 x 17 = 255\n",
      "15 x 18 = 270\n",
      "15 x 19 = 285\n",
      "15 x 20 = 300\n",
      "================================\n"
     ]
    }
   ],
   "source": [
    "# ask the user for a numbe then display a times table\n",
    "user_num = input('Enter a number between 1 and 20: ')\n",
    "\n",
    "while (not user_num.isdigit()) or int(user_num) < 1 or int(user_num) > 20:\n",
    "    print('Invalid input!')\n",
    "    user_num = input('Enter a number between 1 and 20: ')\n",
    "user_num = int(user_num)\n",
    "print('================================')\n",
    "for i in range(1, 21):\n",
    "    print(f'{user_num} x {i} = {user_num * i}')\n",
    "print('================================')\n"
   ]
  },
  {
   "cell_type": "code",
   "execution_count": null,
   "metadata": {},
   "outputs": [
    {
     "name": "stdout",
     "output_type": "stream",
     "text": [
      "This is the 1 times table.\n",
      "1 * 1 = 1\n",
      "1 * 2 = 2\n",
      "1 * 3 = 3\n",
      "1 * 4 = 4\n",
      "1 * 5 = 5\n",
      "1 * 6 = 6\n",
      "1 * 7 = 7\n",
      "1 * 8 = 8\n",
      "1 * 9 = 9\n",
      "1 * 10 = 10\n",
      "This is the 2 times table.\n",
      "2 * 1 = 2\n",
      "2 * 2 = 4\n",
      "2 * 3 = 6\n",
      "2 * 4 = 8\n",
      "2 * 5 = 10\n",
      "2 * 6 = 12\n",
      "2 * 7 = 14\n",
      "2 * 8 = 16\n",
      "2 * 9 = 18\n",
      "2 * 10 = 20\n",
      "This is the 3 times table.\n",
      "3 * 1 = 3\n",
      "3 * 2 = 6\n",
      "3 * 3 = 9\n",
      "3 * 4 = 12\n",
      "3 * 5 = 15\n",
      "3 * 6 = 18\n",
      "3 * 7 = 21\n",
      "3 * 8 = 24\n",
      "3 * 9 = 27\n",
      "3 * 10 = 30\n",
      "This is the 4 times table.\n",
      "4 * 1 = 4\n",
      "4 * 2 = 8\n",
      "4 * 3 = 12\n",
      "4 * 4 = 16\n",
      "4 * 5 = 20\n",
      "4 * 6 = 24\n",
      "4 * 7 = 28\n",
      "4 * 8 = 32\n",
      "4 * 9 = 36\n",
      "4 * 10 = 40\n",
      "This is the 5 times table.\n",
      "5 * 1 = 5\n",
      "5 * 2 = 10\n",
      "5 * 3 = 15\n",
      "5 * 4 = 20\n",
      "5 * 5 = 25\n",
      "5 * 6 = 30\n",
      "5 * 7 = 35\n",
      "5 * 8 = 40\n",
      "5 * 9 = 45\n",
      "5 * 10 = 50\n",
      "This is the 6 times table.\n",
      "6 * 1 = 6\n",
      "6 * 2 = 12\n",
      "6 * 3 = 18\n",
      "6 * 4 = 24\n",
      "6 * 5 = 30\n",
      "6 * 6 = 36\n",
      "6 * 7 = 42\n",
      "6 * 8 = 48\n",
      "6 * 9 = 54\n",
      "6 * 10 = 60\n",
      "This is the 7 times table.\n",
      "7 * 1 = 7\n",
      "7 * 2 = 14\n",
      "7 * 3 = 21\n",
      "7 * 4 = 28\n",
      "7 * 5 = 35\n",
      "7 * 6 = 42\n",
      "7 * 7 = 49\n",
      "7 * 8 = 56\n",
      "7 * 9 = 63\n",
      "7 * 10 = 70\n",
      "This is the 8 times table.\n",
      "8 * 1 = 8\n",
      "8 * 2 = 16\n",
      "8 * 3 = 24\n",
      "8 * 4 = 32\n",
      "8 * 5 = 40\n",
      "8 * 6 = 48\n",
      "8 * 7 = 56\n",
      "8 * 8 = 64\n",
      "8 * 9 = 72\n",
      "8 * 10 = 80\n",
      "This is the 9 times table.\n",
      "9 * 1 = 9\n",
      "9 * 2 = 18\n",
      "9 * 3 = 27\n",
      "9 * 4 = 36\n",
      "9 * 5 = 45\n",
      "9 * 6 = 54\n",
      "9 * 7 = 63\n",
      "9 * 8 = 72\n",
      "9 * 9 = 81\n",
      "9 * 10 = 90\n",
      "This is the 10 times table.\n",
      "10 * 1 = 10\n",
      "10 * 2 = 20\n",
      "10 * 3 = 30\n",
      "10 * 4 = 40\n",
      "10 * 5 = 50\n",
      "10 * 6 = 60\n",
      "10 * 7 = 70\n",
      "10 * 8 = 80\n",
      "10 * 9 = 90\n",
      "10 * 10 = 100\n"
     ]
    }
   ],
   "source": [
    "for x in range(1, 11):\n",
    "    print(f\"This is the {x} times table.\")\n",
    "    for y in range(1, 11):\n",
    "        print(f\"{x} * {y} = {x * y}\")"
   ]
  },
  {
   "cell_type": "code",
   "execution_count": null,
   "metadata": {},
   "outputs": [
    {
     "name": "stdout",
     "output_type": "stream",
     "text": [
      "The mean is 171.2\n",
      "171.2\n"
     ]
    }
   ],
   "source": [
    "# ask user for some numbers then calculate their mean\n",
    "user_input = input('Enter a number: ')\n",
    "numbers = []\n",
    "while user_input.lower() != 'done':\n",
    "    while user_input.isdigit() == False:\n",
    "        print('Invalid input!')\n",
    "        user_input = input('Enter a number: ')\n",
    "    numbers.append(int(user_input))\n",
    "    user_input = input('Enter a number: ')\n",
    "total = 0\n",
    "for n in numbers:\n",
    "    total += n\n",
    "print(f'The mean is {total / len(numbers)}')\n",
    "print(sum(numbers) / len(numbers))\n"
   ]
  },
  {
   "cell_type": "code",
   "execution_count": null,
   "metadata": {},
   "outputs": [
    {
     "name": "stdout",
     "output_type": "stream",
     "text": [
      "10! = 3628800\n"
     ]
    }
   ],
   "source": [
    "# calculate the factorial of a given number\n",
    "# factorial is the product of all numbers from 1 to the given number\n",
    "num = int(input('Enter a number from 1 to 15: '))\n",
    "factorial = 1\n",
    "\n",
    "for num in range(1, num+1):\n",
    "    factorial *= num\n",
    "    \n",
    "print(f'{num}! = {factorial}')\n"
   ]
  },
  {
   "cell_type": "code",
   "execution_count": null,
   "metadata": {},
   "outputs": [
    {
     "name": "stdout",
     "output_type": "stream",
     "text": [
      "The first 50 fibonacci numbers are [0, 1, 1, 2, 3, 5, 8, 13, 21, 34, 55, 89, 144, 233, 377, 610, 987, 1597, 2584, 4181, 6765, 10946, 17711, 28657, 46368, 75025, 121393, 196418, 317811, 514229, 832040, 1346269, 2178309, 3524578, 5702887, 9227465, 14930352, 24157817, 39088169, 63245986, 102334155, 165580141, 267914296, 433494437, 701408733, 1134903170, 1836311903, 2971215073, 4807526976, 7778742049]\n"
     ]
    }
   ],
   "source": [
    "# calculate fibonacci sequence\n",
    "# fibonacci sequence is a sequence of numbers where each number is the sum of the two previous numbers\n",
    "\n",
    "n = 50\n",
    "x = 0\n",
    "y = 1\n",
    "\n",
    "nums = []\n",
    "for i in range(n):\n",
    "    nums.append(x)\n",
    "    x, y = y, x + y\n",
    "print(f\"The first {n} fibonacci numbers are {nums}\")"
   ]
  },
  {
   "cell_type": "code",
   "execution_count": null,
   "metadata": {},
   "outputs": [
    {
     "name": "stdout",
     "output_type": "stream",
     "text": [
      "The first 100 even numbers are [2, 4, 6, 8, 10, 12, 14, 16, 18, 20, 22, 24, 26, 28, 30, 32, 34, 36, 38, 40, 42, 44, 46, 48, 50, 52, 54, 56, 58, 60, 62, 64, 66, 68, 70, 72, 74, 76, 78, 80, 82, 84, 86, 88, 90, 92, 94, 96, 98, 100]\n",
      "The first 100 odd numbers are [1, 3, 5, 7, 9, 11, 13, 15, 17, 19, 21, 23, 25, 27, 29, 31, 33, 35, 37, 39, 41, 43, 45, 47, 49, 51, 53, 55, 57, 59, 61, 63, 65, 67, 69, 71, 73, 75, 77, 79, 81, 83, 85, 87, 89, 91, 93, 95, 97, 99]\n"
     ]
    }
   ],
   "source": [
    "# numbers required\n",
    "nums = 100\n",
    "even_nums, odd_nums = [], []\n",
    "# loop to generate the numbers\n",
    "[even_nums.append(i) if i % 2 == 0 else odd_nums.append(i) for i in range(1, nums+1)]\n",
    "\n",
    "print(f\"The first {nums} even numbers are {even_nums}\")\n",
    "print(f\"The first {nums} odd numbers are {odd_nums}\")"
   ]
  },
  {
   "cell_type": "markdown",
   "metadata": {},
   "source": [
    "# lists"
   ]
  },
  {
   "cell_type": "code",
   "execution_count": null,
   "metadata": {},
   "outputs": [
    {
     "name": "stdout",
     "output_type": "stream",
     "text": [
      "[10, 11, 20, 22, 34, 43, 44, 56, 99, 102]\n"
     ]
    }
   ],
   "source": [
    "data = [10, 34, 56, 43, 22, 99, 102, 11, 20, 44]\n",
    "\n",
    "for i in range(len(data)):\n",
    "    for j in range(0, len(data) - i - 1):\n",
    "        if data[j] > data[j + 1]:\n",
    "            data[j], data[j + 1] = data[j + 1], data[j]\n",
    "print(data)\n",
    "    "
   ]
  },
  {
   "cell_type": "code",
   "execution_count": null,
   "metadata": {},
   "outputs": [
    {
     "name": "stdout",
     "output_type": "stream",
     "text": [
      "[10, 11, 20, 22, 34, 43, 44, 56, 99, 102]\n"
     ]
    }
   ],
   "source": [
    "print(sorted(data))"
   ]
  },
  {
   "cell_type": "code",
   "execution_count": null,
   "metadata": {},
   "outputs": [],
   "source": [
    "new_list = data.copy()"
   ]
  },
  {
   "cell_type": "code",
   "execution_count": null,
   "metadata": {},
   "outputs": [],
   "source": [
    "new_list.append(100)"
   ]
  },
  {
   "cell_type": "code",
   "execution_count": null,
   "metadata": {},
   "outputs": [
    {
     "name": "stdout",
     "output_type": "stream",
     "text": [
      "[10, 11, 20, 22, 34, 43, 44, 56, 99, 102, 100]\n"
     ]
    }
   ],
   "source": [
    "print(new_list)"
   ]
  },
  {
   "cell_type": "code",
   "execution_count": null,
   "metadata": {},
   "outputs": [
    {
     "name": "stdout",
     "output_type": "stream",
     "text": [
      "[10, 11, 20, 22, 34, 43, 44, 56, 99, 100, 102]\n"
     ]
    }
   ],
   "source": [
    "print(sorted(new_list))"
   ]
  },
  {
   "cell_type": "code",
   "execution_count": null,
   "metadata": {},
   "outputs": [],
   "source": [
    "new_list.remove(102)"
   ]
  },
  {
   "cell_type": "code",
   "execution_count": null,
   "metadata": {},
   "outputs": [
    {
     "name": "stdout",
     "output_type": "stream",
     "text": [
      "[10, 11, 20, 22, 34, 43, 44, 56, 99, 100]\n"
     ]
    }
   ],
   "source": [
    "print(new_list)"
   ]
  },
  {
   "cell_type": "code",
   "execution_count": null,
   "metadata": {},
   "outputs": [],
   "source": [
    "new_list.insert(0, 200)"
   ]
  },
  {
   "cell_type": "code",
   "execution_count": null,
   "metadata": {},
   "outputs": [
    {
     "data": {
      "text/plain": [
       "[200, 10, 11, 20, 22, 34, 43, 44, 56, 99, 100]"
      ]
     },
     "execution_count": 20,
     "metadata": {},
     "output_type": "execute_result"
    }
   ],
   "source": [
    "new_list"
   ]
  },
  {
   "cell_type": "code",
   "execution_count": null,
   "metadata": {},
   "outputs": [
    {
     "data": {
      "text/plain": [
       "100"
      ]
     },
     "execution_count": 21,
     "metadata": {},
     "output_type": "execute_result"
    }
   ],
   "source": [
    "new_list.pop()"
   ]
  },
  {
   "cell_type": "code",
   "execution_count": null,
   "metadata": {},
   "outputs": [],
   "source": [
    "new_list.insert(4, 300)"
   ]
  },
  {
   "cell_type": "code",
   "execution_count": null,
   "metadata": {},
   "outputs": [
    {
     "name": "stdout",
     "output_type": "stream",
     "text": [
      "[200, 10, 11, 20, 300, 22, 34, 43, 44, 56, 99]\n"
     ]
    }
   ],
   "source": [
    "print(new_list)"
   ]
  },
  {
   "cell_type": "code",
   "execution_count": null,
   "metadata": {},
   "outputs": [],
   "source": [
    "merged = list(zip(data, new_list))"
   ]
  },
  {
   "cell_type": "code",
   "execution_count": null,
   "metadata": {},
   "outputs": [
    {
     "data": {
      "text/plain": [
       "[10, 11, 20, 22, 34, 43, 44, 56, 99, 102]"
      ]
     },
     "execution_count": 30,
     "metadata": {},
     "output_type": "execute_result"
    }
   ],
   "source": [
    "data"
   ]
  },
  {
   "cell_type": "code",
   "execution_count": null,
   "metadata": {},
   "outputs": [
    {
     "data": {
      "text/plain": [
       "[200, 10, 11, 20, 300, 22, 34, 43, 44, 56, 99]"
      ]
     },
     "execution_count": 32,
     "metadata": {},
     "output_type": "execute_result"
    }
   ],
   "source": [
    "new_list"
   ]
  },
  {
   "cell_type": "code",
   "execution_count": null,
   "metadata": {},
   "outputs": [
    {
     "name": "stdout",
     "output_type": "stream",
     "text": [
      "[(10, 200), (11, 10), (20, 11), (22, 20), (34, 300), (43, 22), (44, 34), (56, 43), (99, 44), (102, 56)]\n"
     ]
    }
   ],
   "source": [
    "print(merged)"
   ]
  },
  {
   "cell_type": "code",
   "execution_count": null,
   "metadata": {},
   "outputs": [],
   "source": [
    "new_list[0] = 100"
   ]
  },
  {
   "cell_type": "code",
   "execution_count": null,
   "metadata": {},
   "outputs": [
    {
     "data": {
      "text/plain": [
       "[100, 10, 11, 20, 300, 22, 34, 43, 44, 56, 99]"
      ]
     },
     "execution_count": 35,
     "metadata": {},
     "output_type": "execute_result"
    }
   ],
   "source": [
    "new_list"
   ]
  },
  {
   "cell_type": "code",
   "execution_count": null,
   "metadata": {},
   "outputs": [],
   "source": [
    "# more than one dimension\n",
    "_list = [[1, 2, 3], [4, 5, 6], [7, 8, 9]]"
   ]
  },
  {
   "cell_type": "code",
   "execution_count": null,
   "metadata": {},
   "outputs": [
    {
     "data": {
      "text/plain": [
       "[1, 2, 3]"
      ]
     },
     "execution_count": 158,
     "metadata": {},
     "output_type": "execute_result"
    }
   ],
   "source": [
    "_list[0]"
   ]
  },
  {
   "cell_type": "code",
   "execution_count": null,
   "metadata": {},
   "outputs": [
    {
     "data": {
      "text/plain": [
       "[4, 5, 6]"
      ]
     },
     "execution_count": 159,
     "metadata": {},
     "output_type": "execute_result"
    }
   ],
   "source": [
    "_list[1]"
   ]
  },
  {
   "cell_type": "code",
   "execution_count": null,
   "metadata": {},
   "outputs": [
    {
     "data": {
      "text/plain": [
       "[7, 8, 9]"
      ]
     },
     "execution_count": 160,
     "metadata": {},
     "output_type": "execute_result"
    }
   ],
   "source": [
    "_list[2]"
   ]
  },
  {
   "cell_type": "code",
   "execution_count": null,
   "metadata": {},
   "outputs": [
    {
     "data": {
      "text/plain": [
       "[1, 2, 3, 4, 5, 6, 7, 8, 9]"
      ]
     },
     "execution_count": 162,
     "metadata": {},
     "output_type": "execute_result"
    }
   ],
   "source": [
    "_list[0] + _list[1] + _list[2]"
   ]
  },
  {
   "cell_type": "code",
   "execution_count": null,
   "metadata": {},
   "outputs": [
    {
     "ename": "TypeError",
     "evalue": "can't multiply sequence by non-int of type 'list'",
     "output_type": "error",
     "traceback": [
      "\u001b[0;31m---------------------------------------------------------------------------\u001b[0m",
      "\u001b[0;31mTypeError\u001b[0m                                 Traceback (most recent call last)",
      "\u001b[0;32m/var/folders/83/_gttb8hn67dfsswspxfpc23w0000gn/T/ipykernel_1768/2099279109.py\u001b[0m in \u001b[0;36m<module>\u001b[0;34m\u001b[0m\n\u001b[0;32m----> 1\u001b[0;31m \u001b[0m_list\u001b[0m\u001b[0;34m[\u001b[0m\u001b[0;36m0\u001b[0m\u001b[0;34m]\u001b[0m \u001b[0;34m*\u001b[0m \u001b[0m_list\u001b[0m\u001b[0;34m[\u001b[0m\u001b[0;36m1\u001b[0m\u001b[0;34m]\u001b[0m \u001b[0;34m*\u001b[0m \u001b[0m_list\u001b[0m\u001b[0;34m[\u001b[0m\u001b[0;36m2\u001b[0m\u001b[0;34m]\u001b[0m\u001b[0;34m\u001b[0m\u001b[0;34m\u001b[0m\u001b[0m\n\u001b[0m",
      "\u001b[0;31mTypeError\u001b[0m: can't multiply sequence by non-int of type 'list'"
     ]
    }
   ],
   "source": [
    "_list[0] * _list[1] * _list[2]"
   ]
  },
  {
   "cell_type": "code",
   "execution_count": null,
   "metadata": {},
   "outputs": [
    {
     "data": {
      "text/plain": [
       "1"
      ]
     },
     "execution_count": 164,
     "metadata": {},
     "output_type": "execute_result"
    }
   ],
   "source": [
    "_list[0][0]"
   ]
  },
  {
   "cell_type": "code",
   "execution_count": null,
   "metadata": {},
   "outputs": [
    {
     "data": {
      "text/plain": [
       "[[1, 2, 3], [4, 5, 6]]"
      ]
     },
     "execution_count": 165,
     "metadata": {},
     "output_type": "execute_result"
    }
   ],
   "source": [
    "_list[0:2]"
   ]
  },
  {
   "cell_type": "code",
   "execution_count": null,
   "metadata": {},
   "outputs": [],
   "source": []
  },
  {
   "cell_type": "code",
   "execution_count": null,
   "metadata": {},
   "outputs": [],
   "source": []
  },
  {
   "cell_type": "code",
   "execution_count": null,
   "metadata": {},
   "outputs": [],
   "source": []
  },
  {
   "cell_type": "code",
   "execution_count": null,
   "metadata": {},
   "outputs": [],
   "source": []
  },
  {
   "cell_type": "code",
   "execution_count": null,
   "metadata": {},
   "outputs": [],
   "source": []
  },
  {
   "cell_type": "markdown",
   "metadata": {},
   "source": [
    "# functions"
   ]
  },
  {
   "cell_type": "code",
   "execution_count": null,
   "metadata": {},
   "outputs": [],
   "source": [
    "# the zip function\n",
    "x = [1, 2, 3]\n",
    "y = ['a', 'b', 'c']\n",
    "\n",
    "joined = list(zip(x, y))"
   ]
  },
  {
   "cell_type": "code",
   "execution_count": null,
   "metadata": {},
   "outputs": [
    {
     "data": {
      "text/plain": [
       "[(1, 'a'), (2, 'b'), (3, 'c')]"
      ]
     },
     "execution_count": 137,
     "metadata": {},
     "output_type": "execute_result"
    }
   ],
   "source": [
    "joined"
   ]
  },
  {
   "cell_type": "code",
   "execution_count": null,
   "metadata": {},
   "outputs": [],
   "source": [
    "a, b = zip(*joined)"
   ]
  },
  {
   "cell_type": "code",
   "execution_count": null,
   "metadata": {},
   "outputs": [
    {
     "data": {
      "text/plain": [
       "(1, 2, 3)"
      ]
     },
     "execution_count": 139,
     "metadata": {},
     "output_type": "execute_result"
    }
   ],
   "source": [
    "a"
   ]
  },
  {
   "cell_type": "code",
   "execution_count": null,
   "metadata": {},
   "outputs": [
    {
     "data": {
      "text/plain": [
       "('a', 'b', 'c')"
      ]
     },
     "execution_count": 140,
     "metadata": {},
     "output_type": "execute_result"
    }
   ],
   "source": [
    "b"
   ]
  },
  {
   "cell_type": "code",
   "execution_count": null,
   "metadata": {},
   "outputs": [],
   "source": [
    "text = '''Python is powerful... and fast; \n",
    "plays well with others; \n",
    "runs everywhere; \n",
    "is friendly & easy to learn; \n",
    "is Open.\n",
    "These are some of the reasons people who use Python would rather not use anything else.'''"
   ]
  },
  {
   "cell_type": "code",
   "execution_count": null,
   "metadata": {},
   "outputs": [
    {
     "name": "stdout",
     "output_type": "stream",
     "text": [
      "{'p': 7, 'y': 7, 't': 11, 'h': 10, 'o': 13, 'n': 11, ' ': 33, 'i': 6, 's': 15, 'w': 6, 'e': 24, 'r': 11, 'f': 4, 'u': 5, 'l': 9, '.': 5, 'a': 9, 'd': 3, ';': 4, '\\n': 5, 'v': 1, '&': 1, 'm': 1, 'g': 1}\n"
     ]
    }
   ],
   "source": [
    "# check the frequency of words in the text\n",
    "letter_count = {}\n",
    "for letter in text:\n",
    "    letter_count[letter.lower()] = letter_count.get(letter.lower(), 0) + 1\n",
    "print(letter_count)\n"
   ]
  },
  {
   "cell_type": "code",
   "execution_count": null,
   "metadata": {},
   "outputs": [
    {
     "name": "stdout",
     "output_type": "stream",
     "text": [
      "{'p': 7, 'y': 7, 't': 11, 'h': 10, 'o': 13, 'n': 11, 'i': 6, 's': 15, 'w': 6, 'e': 24, 'r': 11, 'f': 4, 'u': 5, 'l': 9, 'a': 9, 'd': 3, 'v': 1, 'm': 1, 'g': 1}\n"
     ]
    }
   ],
   "source": [
    "new_letter_count = {}\n",
    "for letter in text.lower():\n",
    "    if letter.isalpha():\n",
    "        new_letter_count[letter] = new_letter_count.get(letter, 0) + 1\n",
    "print(new_letter_count)"
   ]
  },
  {
   "cell_type": "code",
   "execution_count": null,
   "metadata": {},
   "outputs": [
    {
     "data": {
      "image/png": "[encoded data removed]",
      "text/plain": [
       "<Figure size 720x360 with 1 Axes>"
      ]
     },
     "metadata": {
      "needs_background": "light"
     },
     "output_type": "display_data"
    }
   ],
   "source": [
    "import matplotlib.pyplot as plt\n",
    "\n",
    "plt.figure(figsize=(10, 5))\n",
    "x, y = zip(*new_letter_count.items())\n",
    "plt.bar(x, y)\n",
    "plt.xlabel('Letter / Character')\n",
    "plt.ylabel('Frequency')\n",
    "plt.show()\n"
   ]
  },
  {
   "cell_type": "code",
   "execution_count": null,
   "metadata": {},
   "outputs": [],
   "source": [
    "new_words = text.split(' ')"
   ]
  },
  {
   "cell_type": "code",
   "execution_count": null,
   "metadata": {},
   "outputs": [
    {
     "data": {
      "text/plain": [
       "['Python',\n",
       " 'is',\n",
       " 'powerful...',\n",
       " 'and',\n",
       " 'fast;',\n",
       " '\\nplays',\n",
       " 'well',\n",
       " 'with',\n",
       " 'others;',\n",
       " '\\nruns',\n",
       " 'everywhere;',\n",
       " '\\nis',\n",
       " 'friendly',\n",
       " '&',\n",
       " 'easy',\n",
       " 'to',\n",
       " 'learn;',\n",
       " '\\nis',\n",
       " 'Open.\\nThese',\n",
       " 'are',\n",
       " 'some',\n",
       " 'of',\n",
       " 'the',\n",
       " 'reasons',\n",
       " 'people',\n",
       " 'who',\n",
       " 'use',\n",
       " 'Python',\n",
       " 'would',\n",
       " 'rather',\n",
       " 'not',\n",
       " 'use',\n",
       " 'anything',\n",
       " 'else.']"
      ]
     },
     "execution_count": 143,
     "metadata": {},
     "output_type": "execute_result"
    }
   ],
   "source": [
    "new_words"
   ]
  },
  {
   "cell_type": "code",
   "execution_count": null,
   "metadata": {},
   "outputs": [],
   "source": [
    "for x in range(len(new_words)):\n",
    "    new_words[x] = new_words[x].strip('.,\\n&')"
   ]
  },
  {
   "cell_type": "code",
   "execution_count": null,
   "metadata": {},
   "outputs": [
    {
     "data": {
      "text/plain": [
       "['Python',\n",
       " 'is',\n",
       " 'powerful',\n",
       " 'and',\n",
       " 'fast;',\n",
       " 'plays',\n",
       " 'well',\n",
       " 'with',\n",
       " 'others;',\n",
       " 'runs',\n",
       " 'everywhere;',\n",
       " 'is',\n",
       " 'friendly',\n",
       " '',\n",
       " 'easy',\n",
       " 'to',\n",
       " 'learn;',\n",
       " 'is',\n",
       " 'Open.\\nThese',\n",
       " 'are',\n",
       " 'some',\n",
       " 'of',\n",
       " 'the',\n",
       " 'reasons',\n",
       " 'people',\n",
       " 'who',\n",
       " 'use',\n",
       " 'Python',\n",
       " 'would',\n",
       " 'rather',\n",
       " 'not',\n",
       " 'use',\n",
       " 'anything',\n",
       " 'else']"
      ]
     },
     "execution_count": 147,
     "metadata": {},
     "output_type": "execute_result"
    }
   ],
   "source": [
    "new_words"
   ]
  },
  {
   "cell_type": "code",
   "execution_count": null,
   "metadata": {},
   "outputs": [],
   "source": []
  },
  {
   "cell_type": "code",
   "execution_count": null,
   "metadata": {},
   "outputs": [],
   "source": []
  },
  {
   "cell_type": "code",
   "execution_count": null,
   "metadata": {},
   "outputs": [],
   "source": []
  },
  {
   "cell_type": "markdown",
   "metadata": {},
   "source": [
    "# modules"
   ]
  },
  {
   "cell_type": "code",
   "execution_count": null,
   "metadata": {},
   "outputs": [
    {
     "data": {
      "text/plain": [
       "['__doc__',\n",
       " '__file__',\n",
       " '__loader__',\n",
       " '__name__',\n",
       " '__package__',\n",
       " '__spec__',\n",
       " 'acos',\n",
       " 'acosh',\n",
       " 'asin',\n",
       " 'asinh',\n",
       " 'atan',\n",
       " 'atan2',\n",
       " 'atanh',\n",
       " 'ceil',\n",
       " 'comb',\n",
       " 'copysign',\n",
       " 'cos',\n",
       " 'cosh',\n",
       " 'degrees',\n",
       " 'dist',\n",
       " 'e',\n",
       " 'erf',\n",
       " 'erfc',\n",
       " 'exp',\n",
       " 'expm1',\n",
       " 'fabs',\n",
       " 'factorial',\n",
       " 'floor',\n",
       " 'fmod',\n",
       " 'frexp',\n",
       " 'fsum',\n",
       " 'gamma',\n",
       " 'gcd',\n",
       " 'hypot',\n",
       " 'inf',\n",
       " 'isclose',\n",
       " 'isfinite',\n",
       " 'isinf',\n",
       " 'isnan',\n",
       " 'isqrt',\n",
       " 'lcm',\n",
       " 'ldexp',\n",
       " 'lgamma',\n",
       " 'log',\n",
       " 'log10',\n",
       " 'log1p',\n",
       " 'log2',\n",
       " 'modf',\n",
       " 'nan',\n",
       " 'nextafter',\n",
       " 'perm',\n",
       " 'pi',\n",
       " 'pow',\n",
       " 'prod',\n",
       " 'radians',\n",
       " 'remainder',\n",
       " 'sin',\n",
       " 'sinh',\n",
       " 'sqrt',\n",
       " 'tan',\n",
       " 'tanh',\n",
       " 'tau',\n",
       " 'trunc',\n",
       " 'ulp']"
      ]
     },
     "execution_count": 92,
     "metadata": {},
     "output_type": "execute_result"
    }
   ],
   "source": [
    "import math\n",
    "\n",
    "dir(math)"
   ]
  },
  {
   "cell_type": "code",
   "execution_count": null,
   "metadata": {},
   "outputs": [
    {
     "data": {
      "text/plain": [
       "3.141592653589793"
      ]
     },
     "execution_count": 93,
     "metadata": {},
     "output_type": "execute_result"
    }
   ],
   "source": [
    "math.pi"
   ]
  },
  {
   "cell_type": "code",
   "execution_count": null,
   "metadata": {},
   "outputs": [
    {
     "data": {
      "text/plain": [
       "5.0"
      ]
     },
     "execution_count": 94,
     "metadata": {},
     "output_type": "execute_result"
    }
   ],
   "source": [
    "math.sqrt(25)"
   ]
  },
  {
   "cell_type": "code",
   "execution_count": null,
   "metadata": {},
   "outputs": [
    {
     "data": {
      "text/plain": [
       "3628800"
      ]
     },
     "execution_count": 95,
     "metadata": {},
     "output_type": "execute_result"
    }
   ],
   "source": [
    "math.prod(range(1, 11))"
   ]
  },
  {
   "cell_type": "code",
   "execution_count": null,
   "metadata": {},
   "outputs": [
    {
     "data": {
      "text/plain": [
       "0.7071067811865476"
      ]
     },
     "execution_count": 96,
     "metadata": {},
     "output_type": "execute_result"
    }
   ],
   "source": [
    "math.cos(math.pi / 4)"
   ]
  },
  {
   "cell_type": "code",
   "execution_count": null,
   "metadata": {},
   "outputs": [],
   "source": [
    "import random"
   ]
  },
  {
   "cell_type": "code",
   "execution_count": null,
   "metadata": {},
   "outputs": [
    {
     "data": {
      "text/plain": [
       "94"
      ]
     },
     "execution_count": 100,
     "metadata": {},
     "output_type": "execute_result"
    }
   ],
   "source": [
    "random.randint(1, 100)"
   ]
  },
  {
   "cell_type": "code",
   "execution_count": null,
   "metadata": {},
   "outputs": [
    {
     "data": {
      "text/plain": [
       "[35, 69, 91, 69, 12, 48, 68, 15, 87, 95]"
      ]
     },
     "execution_count": 101,
     "metadata": {},
     "output_type": "execute_result"
    }
   ],
   "source": [
    "[random.randint(1, 100) for i in range(10)]"
   ]
  },
  {
   "cell_type": "code",
   "execution_count": null,
   "metadata": {},
   "outputs": [
    {
     "data": {
      "text/plain": [
       "True"
      ]
     },
     "execution_count": 102,
     "metadata": {},
     "output_type": "execute_result"
    }
   ],
   "source": [
    "import webbrowser\n",
    "\n",
    "webbrowser.open('https://www.google.com')"
   ]
  },
  {
   "cell_type": "code",
   "execution_count": null,
   "metadata": {},
   "outputs": [],
   "source": []
  },
  {
   "cell_type": "markdown",
   "metadata": {},
   "source": [
    "# dictionaries"
   ]
  },
  {
   "cell_type": "code",
   "execution_count": null,
   "metadata": {},
   "outputs": [],
   "source": [
    "# a dictionary is a collection of key-value pairs"
   ]
  },
  {
   "cell_type": "code",
   "execution_count": null,
   "metadata": {},
   "outputs": [
    {
     "data": {
      "text/plain": [
       "15"
      ]
     },
     "execution_count": 104,
     "metadata": {},
     "output_type": "execute_result"
    }
   ],
   "source": [
    "students = {'John': 15, 'Mary': 18, 'Bob': 12, 'Tom': 13}\n",
    "students['John']"
   ]
  },
  {
   "cell_type": "code",
   "execution_count": null,
   "metadata": {},
   "outputs": [
    {
     "name": "stdout",
     "output_type": "stream",
     "text": [
      "The capital of France is Paris\n",
      "The capital of France is Rome\n",
      "The capital of France is Madrid\n",
      "The capital of France is Berlin\n",
      "The capital of France is Warsaw\n",
      "The capital of France is Moscow\n"
     ]
    }
   ],
   "source": [
    "capitals = {'France': 'Paris', 'Italy': 'Rome', 'Spain': 'Madrid', 'Germany': 'Berlin', 'Poland': 'Warsaw', 'Russia': 'Moscow'}\n",
    "\n",
    "for capital in capitals:\n",
    "    print(f\"The capital of France is {capitals[capital]}\")\n"
   ]
  },
  {
   "cell_type": "code",
   "execution_count": null,
   "metadata": {},
   "outputs": [],
   "source": [
    "capitals.get('Brazil')"
   ]
  },
  {
   "cell_type": "code",
   "execution_count": null,
   "metadata": {},
   "outputs": [],
   "source": [
    "capitals['Canada'] = 'Ottawa'"
   ]
  },
  {
   "cell_type": "code",
   "execution_count": null,
   "metadata": {},
   "outputs": [
    {
     "data": {
      "text/plain": [
       "{'France': 'Paris',\n",
       " 'Italy': 'Rome',\n",
       " 'Spain': 'Madrid',\n",
       " 'Germany': 'Berlin',\n",
       " 'Poland': 'Warsaw',\n",
       " 'Russia': 'Moscow',\n",
       " 'Canada': 'Ottawa'}"
      ]
     },
     "execution_count": 112,
     "metadata": {},
     "output_type": "execute_result"
    }
   ],
   "source": [
    "capitals"
   ]
  },
  {
   "cell_type": "code",
   "execution_count": null,
   "metadata": {},
   "outputs": [],
   "source": [
    "capitals['United States of America'] = 'Washington D.C.'"
   ]
  },
  {
   "cell_type": "code",
   "execution_count": null,
   "metadata": {},
   "outputs": [
    {
     "data": {
      "text/plain": [
       "{'France': 'Paris',\n",
       " 'Italy': 'Rome',\n",
       " 'Spain': 'Madrid',\n",
       " 'Germany': 'Berlin',\n",
       " 'Poland': 'Warsaw',\n",
       " 'Russia': 'Moscow',\n",
       " 'Canada': 'Ottawa',\n",
       " 'United States of America': 'Washington D.C.'}"
      ]
     },
     "execution_count": 116,
     "metadata": {},
     "output_type": "execute_result"
    }
   ],
   "source": [
    "capitals"
   ]
  },
  {
   "cell_type": "code",
   "execution_count": null,
   "metadata": {},
   "outputs": [
    {
     "data": {
      "text/plain": [
       "dict_items([('France', 'Paris'), ('Italy', 'Rome'), ('Spain', 'Madrid'), ('Germany', 'Berlin'), ('Poland', 'Warsaw'), ('Russia', 'Moscow'), ('Canada', 'Ottawa'), ('United States of America', 'Washington D.C.')])"
      ]
     },
     "execution_count": 117,
     "metadata": {},
     "output_type": "execute_result"
    }
   ],
   "source": [
    "capitals.items()"
   ]
  },
  {
   "cell_type": "code",
   "execution_count": null,
   "metadata": {},
   "outputs": [
    {
     "name": "stdout",
     "output_type": "stream",
     "text": [
      "The capital of France is Paris\n",
      "The capital of Italy is Rome\n",
      "The capital of Spain is Madrid\n",
      "The capital of Germany is Berlin\n",
      "The capital of Poland is Warsaw\n",
      "The capital of Russia is Moscow\n",
      "The capital of Canada is Ottawa\n",
      "The capital of United States of America is Washington D.C.\n"
     ]
    }
   ],
   "source": [
    "for country, capital in capitals.items():\n",
    "    print(f\"The capital of {country} is {capital}\")"
   ]
  },
  {
   "cell_type": "code",
   "execution_count": null,
   "metadata": {},
   "outputs": [
    {
     "data": {
      "text/plain": [
       "dict_keys(['France', 'Italy', 'Spain', 'Germany', 'Poland', 'Russia', 'Canada', 'United States of America'])"
      ]
     },
     "execution_count": 119,
     "metadata": {},
     "output_type": "execute_result"
    }
   ],
   "source": [
    "capitals.keys()"
   ]
  },
  {
   "cell_type": "code",
   "execution_count": null,
   "metadata": {},
   "outputs": [
    {
     "data": {
      "text/plain": [
       "dict_values(['Paris', 'Rome', 'Madrid', 'Berlin', 'Warsaw', 'Moscow', 'Ottawa', 'Washington D.C.'])"
      ]
     },
     "execution_count": 120,
     "metadata": {},
     "output_type": "execute_result"
    }
   ],
   "source": [
    "capitals.values()"
   ]
  },
  {
   "cell_type": "code",
   "execution_count": null,
   "metadata": {},
   "outputs": [],
   "source": [
    "lorem_text = '''Lorem ipsum dolor sit amet, consectetur adipiscing elit. \n",
    "Sed euismod, urna eu tincidunt consectetur,\n",
    "nisl nunc euismod nisi, eu porttitor nisl nunc euismod nisi.\n",
    "Sed euismod, urna eu tincidunt consectetur,\n",
    "nisl nunc euismod nisi, eu porttitor nisl nunc euismod nisi.'''\n"
   ]
  },
  {
   "cell_type": "code",
   "execution_count": null,
   "metadata": {},
   "outputs": [
    {
     "name": "stdout",
     "output_type": "stream",
     "text": [
      "{'l': 7, 'o': 16, 'r': 11, 'e': 21, 'm': 9, ' ': 36, 'i': 30, 'p': 4, 's': 22, 'u': 22, 'd': 12, 't': 19, 'a': 4, ',': 7, 'c': 13, 'n': 26, 'g': 1, '.': 3, '\\n': 4}\n"
     ]
    }
   ],
   "source": [
    "letter_count = {}\n",
    "for letter in lorem_text:\n",
    "    letter_count[letter.lower()] = letter_count.get(letter.lower(), 0) + 1\n",
    "print(letter_count)"
   ]
  },
  {
   "cell_type": "code",
   "execution_count": null,
   "metadata": {},
   "outputs": [],
   "source": [
    "import matplotlib.pyplot as plt\n"
   ]
  },
  {
   "cell_type": "code",
   "execution_count": null,
   "metadata": {},
   "outputs": [
    {
     "data": {
      "image/png": "[encoded data removed]",
      "text/plain": [
       "<Figure size 720x360 with 1 Axes>"
      ]
     },
     "metadata": {
      "needs_background": "light"
     },
     "output_type": "display_data"
    }
   ],
   "source": [
    "plt.figure(figsize=(10, 5))\n",
    "x, y = zip(*letter_count.items())\n",
    "plt.bar(x, y)\n",
    "plt.xlabel('Letter / Character')\n",
    "plt.ylabel('Frequency')\n",
    "plt.show()"
   ]
  },
  {
   "cell_type": "code",
   "execution_count": null,
   "metadata": {},
   "outputs": [
    {
     "name": "stdout",
     "output_type": "stream",
     "text": [
      "[(1, 'a'), (2, 'b'), (3, 'c'), (4, 'd'), (5, 'e'), (6, 'f'), (7, 'g'), (8, 'h'), (9, 'i'), (10, 'j')]\n"
     ]
    }
   ],
   "source": [
    "x = [1, 2, 3, 4, 5, 6, 7, 8, 9, 10]\n",
    "y = ['a', 'b', 'c', 'd', 'e', 'f', 'g', 'h', 'i', 'j']\n",
    "\n",
    "joined = list(zip(x, y))\n",
    "print(joined)"
   ]
  },
  {
   "cell_type": "code",
   "execution_count": null,
   "metadata": {},
   "outputs": [],
   "source": [
    "new_words = lorem_text.split(' ')"
   ]
  },
  {
   "cell_type": "code",
   "execution_count": null,
   "metadata": {},
   "outputs": [
    {
     "data": {
      "text/plain": [
       "['Lorem',\n",
       " 'ipsum',\n",
       " 'dolor',\n",
       " 'sit',\n",
       " 'amet,',\n",
       " 'consectetur',\n",
       " 'adipiscing',\n",
       " 'elit.',\n",
       " '\\nSed',\n",
       " 'euismod,',\n",
       " 'urna',\n",
       " 'eu',\n",
       " 'tincidunt',\n",
       " 'consectetur,\\nnisl',\n",
       " 'nunc',\n",
       " 'euismod',\n",
       " 'nisi,',\n",
       " 'eu',\n",
       " 'porttitor',\n",
       " 'nisl',\n",
       " 'nunc',\n",
       " 'euismod',\n",
       " 'nisi.\\nSed',\n",
       " 'euismod,',\n",
       " 'urna',\n",
       " 'eu',\n",
       " 'tincidunt',\n",
       " 'consectetur,\\nnisl',\n",
       " 'nunc',\n",
       " 'euismod',\n",
       " 'nisi,',\n",
       " 'eu',\n",
       " 'porttitor',\n",
       " 'nisl',\n",
       " 'nunc',\n",
       " 'euismod',\n",
       " 'nisi.']"
      ]
     },
     "execution_count": 134,
     "metadata": {},
     "output_type": "execute_result"
    }
   ],
   "source": [
    "new_words"
   ]
  },
  {
   "cell_type": "code",
   "execution_count": null,
   "metadata": {},
   "outputs": [],
   "source": [
    "countries = {'France': {'capital': 'Paris', 'population': 67000000}, \n",
    "            'Italy': {'capital': 'Rome', 'population': 60000000}, \n",
    "            'Spain': {'capital': 'Madrid', 'population': 40000000}, \n",
    "            'Germany': {'capital': 'Berlin', 'population': 80000000}, \n",
    "            'Poland': {'capital': 'Warsaw', 'population': 38000000}, \n",
    "            'Russia': {'capital': 'Moscow', 'population': 140000000}\n",
    "            }"
   ]
  },
  {
   "cell_type": "code",
   "execution_count": null,
   "metadata": {},
   "outputs": [
    {
     "data": {
      "text/plain": [
       "{'capital': 'Paris', 'population': 67000000}"
      ]
     },
     "execution_count": 167,
     "metadata": {},
     "output_type": "execute_result"
    }
   ],
   "source": [
    "countries['France']"
   ]
  },
  {
   "cell_type": "code",
   "execution_count": null,
   "metadata": {},
   "outputs": [
    {
     "name": "stdout",
     "output_type": "stream",
     "text": [
      "The capital of France is Paris and the population is 67000000.\n",
      "The capital of Italy is Rome and the population is 60000000.\n",
      "The capital of Spain is Madrid and the population is 40000000.\n",
      "The capital of Germany is Berlin and the population is 80000000.\n",
      "The capital of Poland is Warsaw and the population is 38000000.\n",
      "The capital of Russia is Moscow and the population is 140000000.\n"
     ]
    }
   ],
   "source": [
    "for k, v in countries.items():\n",
    "    print(f\"The capital of {k} is {v['capital']} and the population is {v['population']}.\")\n",
    "   "
   ]
  },
  {
   "cell_type": "code",
   "execution_count": null,
   "metadata": {},
   "outputs": [
    {
     "data": {
      "text/plain": [
       "Counter({'France': {'capital': 'Paris', 'population': 67000000},\n",
       "         'Italy': {'capital': 'Rome', 'population': 60000000},\n",
       "         'Spain': {'capital': 'Madrid', 'population': 40000000},\n",
       "         'Germany': {'capital': 'Berlin', 'population': 80000000},\n",
       "         'Poland': {'capital': 'Warsaw', 'population': 38000000},\n",
       "         'Russia': {'capital': 'Moscow', 'population': 140000000}})"
      ]
     },
     "execution_count": 177,
     "metadata": {},
     "output_type": "execute_result"
    }
   ],
   "source": [
    "from collections import Counter\n",
    "\n",
    "Counter(countries)"
   ]
  },
  {
   "cell_type": "code",
   "execution_count": null,
   "metadata": {},
   "outputs": [
    {
     "data": {
      "text/plain": [
       "'Lorem ipsum dolor sit amet, consectetur adipiscing elit. \\nSed euismod, urna eu tincidunt consectetur,\\nnisl nunc euismod nisi, eu porttitor nisl nunc euismod nisi.\\nSed euismod, urna eu tincidunt consectetur,\\nnisl nunc euismod nisi, eu porttitor nisl nunc euismod nisi.'"
      ]
     },
     "execution_count": 178,
     "metadata": {},
     "output_type": "execute_result"
    }
   ],
   "source": [
    "lorem_text"
   ]
  },
  {
   "cell_type": "code",
   "execution_count": null,
   "metadata": {},
   "outputs": [
    {
     "data": {
      "text/plain": [
       "Counter({'l': 7,\n",
       "         'o': 16,\n",
       "         'r': 11,\n",
       "         'e': 21,\n",
       "         'm': 9,\n",
       "         ' ': 36,\n",
       "         'i': 30,\n",
       "         'p': 4,\n",
       "         's': 22,\n",
       "         'u': 22,\n",
       "         'd': 12,\n",
       "         't': 19,\n",
       "         'a': 4,\n",
       "         ',': 7,\n",
       "         'c': 13,\n",
       "         'n': 26,\n",
       "         'g': 1,\n",
       "         '.': 3,\n",
       "         '\\n': 4})"
      ]
     },
     "execution_count": 179,
     "metadata": {},
     "output_type": "execute_result"
    }
   ],
   "source": [
    "Counter(lorem_text.lower())"
   ]
  },
  {
   "cell_type": "code",
   "execution_count": null,
   "metadata": {},
   "outputs": [
    {
     "data": {
      "text/plain": [
       "'Lorem ipsum dolor sit amet, consectetur adipiscing elit. \\nSed euismod, urna eu tincidunt consectetur,\\nnisl nunc euismod nisi, eu porttitor nisl nunc euismod nisi.\\nSed euismod, urna eu tincidunt consectetur,\\nnisl nunc euismod nisi, eu porttitor nisl nunc euismod nisi.'"
      ]
     },
     "execution_count": 184,
     "metadata": {},
     "output_type": "execute_result"
    }
   ],
   "source": [
    "lorem_text"
   ]
  },
  {
   "cell_type": "code",
   "execution_count": null,
   "metadata": {},
   "outputs": [],
   "source": [
    "new_lorem = dict(Counter(lorem_text.lower()))"
   ]
  },
  {
   "cell_type": "code",
   "execution_count": null,
   "metadata": {},
   "outputs": [
    {
     "data": {
      "text/plain": [
       "{'l': 7,\n",
       " 'o': 16,\n",
       " 'r': 11,\n",
       " 'e': 21,\n",
       " 'm': 9,\n",
       " ' ': 36,\n",
       " 'i': 30,\n",
       " 'p': 4,\n",
       " 's': 22,\n",
       " 'u': 22,\n",
       " 'd': 12,\n",
       " 't': 19,\n",
       " 'a': 4,\n",
       " ',': 7,\n",
       " 'c': 13,\n",
       " 'n': 26,\n",
       " 'g': 1,\n",
       " '.': 3,\n",
       " '\\n': 4}"
      ]
     },
     "execution_count": 186,
     "metadata": {},
     "output_type": "execute_result"
    }
   ],
   "source": [
    "new_lorem"
   ]
  },
  {
   "cell_type": "code",
   "execution_count": null,
   "metadata": {},
   "outputs": [
    {
     "data": {
      "text/plain": [
       "{'l': 7,\n",
       " 'o': 16,\n",
       " 'r': 11,\n",
       " 'e': 21,\n",
       " 'm': 9,\n",
       " 'i': 30,\n",
       " 'p': 4,\n",
       " 's': 22,\n",
       " 'u': 22,\n",
       " 'd': 12,\n",
       " 't': 19,\n",
       " 'a': 4,\n",
       " 'c': 13,\n",
       " 'n': 26,\n",
       " 'g': 1}"
      ]
     },
     "execution_count": 189,
     "metadata": {},
     "output_type": "execute_result"
    }
   ],
   "source": [
    "new_lorem = {k:v for k, v in new_lorem.items() if k.isalpha()}\n",
    "new_lorem"
   ]
  },
  {
   "cell_type": "code",
   "execution_count": null,
   "metadata": {},
   "outputs": [],
   "source": []
  }
 ],
 "metadata": {
  "interpreter": {
   "hash": "31f2aee4e71d21fbe5cf8b01ff0e069b9275f58929596ceb00d14d90e3e16cd6"
  },
  "kernelspec": {
   "display_name": "Python 3.8.9 64-bit",
   "name": "python3"
  },
  "language_info": {
   "codemirror_mode": {
    "name": "ipython",
    "version": 3
   },
   "file_extension": ".py",
   "mimetype": "text/x-python",
   "name": "python",
   "nbconvert_exporter": "python",
   "pygments_lexer": "ipython3",
   "version": "3.8.9"
  },
  "orig_nbformat": 4
 },
 "nbformat": 4,
 "nbformat_minor": 2
}
