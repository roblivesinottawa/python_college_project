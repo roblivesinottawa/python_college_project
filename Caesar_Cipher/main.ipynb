{
 "cells": [
  {
   "cell_type": "markdown",
   "metadata": {},
   "source": [
    "CREATE A CAESAR CIPHER WITH A KEY OF 5\n",
    "[]: # Path: Caesar_Cipher/main.ipynb"
   ]
  },
  {
   "cell_type": "code",
   "execution_count": 1,
   "metadata": {},
   "outputs": [],
   "source": [
    "def caesar_cipher(string, shift):\n",
    "    \"\"\"\n",
    "    Encrypts a string using a Caesar Cipher.\n",
    "    \"\"\"\n",
    "    encrypted_string = \"\"\n",
    "    for char in string:\n",
    "        if char.isalpha():\n",
    "            encrypted_char = chr((ord(char) - ord('a') + shift) % 26 + ord('a'))\n",
    "            encrypted_string += encrypted_char\n",
    "        else:\n",
    "            encrypted_string += char\n",
    "    return encrypted_string"
   ]
  },
  {
   "cell_type": "code",
   "execution_count": 3,
   "metadata": {},
   "outputs": [
    {
     "data": {
      "text/plain": [
       "'gjqqt, vtwqi!'"
      ]
     },
     "execution_count": 3,
     "metadata": {},
     "output_type": "execute_result"
    }
   ],
   "source": [
    "caesar_cipher(\"Hello, World!\", 5)"
   ]
  },
  {
   "cell_type": "code",
   "execution_count": 4,
   "metadata": {},
   "outputs": [
    {
     "data": {
      "text/plain": [
       "'gjqqt ymnx nx f rjxxflj kwtr ymj xjhwjy xjwanhj'"
      ]
     },
     "execution_count": 4,
     "metadata": {},
     "output_type": "execute_result"
    }
   ],
   "source": [
    "caesar_cipher(\"Hello this is a message from the secret service\", 5)"
   ]
  },
  {
   "cell_type": "markdown",
   "metadata": {},
   "source": [
    "SOLUTION 2:"
   ]
  },
  {
   "cell_type": "code",
   "execution_count": 9,
   "metadata": {},
   "outputs": [
    {
     "name": "stdout",
     "output_type": "stream",
     "text": [
      "mjqqt\n"
     ]
    }
   ],
   "source": [
    "alphabet_words = \"abcdefghijklmnopqrstuvwxyz\"\n",
    "input_text = input(\"Enter a string of no more than 5 letters: \")\n",
    "\n",
    "output_text = \"\"\n",
    "for word in  input_text:\n",
    "    alpha_index = alphabet_words.find(word)\n",
    "    output_text = output_text + alphabet_words[alpha_index + 5]\n",
    "print(output_text)"
   ]
  },
  {
   "cell_type": "markdown",
   "metadata": {},
   "source": [
    "if the user inputs a string of more than 5 characters, the program will print an error message"
   ]
  },
  {
   "cell_type": "code",
   "execution_count": 10,
   "metadata": {},
   "outputs": [
    {
     "ename": "IndexError",
     "evalue": "string index out of range",
     "output_type": "error",
     "traceback": [
      "\u001b[0;31m---------------------------------------------------------------------------\u001b[0m",
      "\u001b[0;31mIndexError\u001b[0m                                Traceback (most recent call last)",
      "\u001b[0;32m/var/folders/83/_gttb8hn67dfsswspxfpc23w0000gn/T/ipykernel_13995/21134138.py\u001b[0m in \u001b[0;36m<module>\u001b[0;34m\u001b[0m\n\u001b[1;32m      5\u001b[0m \u001b[0;32mfor\u001b[0m \u001b[0mword\u001b[0m \u001b[0;32min\u001b[0m  \u001b[0minput_text\u001b[0m\u001b[0;34m:\u001b[0m\u001b[0;34m\u001b[0m\u001b[0;34m\u001b[0m\u001b[0m\n\u001b[1;32m      6\u001b[0m     \u001b[0malpha_index\u001b[0m \u001b[0;34m=\u001b[0m \u001b[0malphabet_words\u001b[0m\u001b[0;34m.\u001b[0m\u001b[0mfind\u001b[0m\u001b[0;34m(\u001b[0m\u001b[0mword\u001b[0m\u001b[0;34m)\u001b[0m\u001b[0;34m\u001b[0m\u001b[0;34m\u001b[0m\u001b[0m\n\u001b[0;32m----> 7\u001b[0;31m     \u001b[0moutput_text\u001b[0m \u001b[0;34m=\u001b[0m \u001b[0moutput_text\u001b[0m \u001b[0;34m+\u001b[0m \u001b[0malphabet_words\u001b[0m\u001b[0;34m[\u001b[0m\u001b[0malpha_index\u001b[0m \u001b[0;34m+\u001b[0m \u001b[0;36m5\u001b[0m\u001b[0;34m]\u001b[0m\u001b[0;34m\u001b[0m\u001b[0;34m\u001b[0m\u001b[0m\n\u001b[0m\u001b[1;32m      8\u001b[0m \u001b[0mprint\u001b[0m\u001b[0;34m(\u001b[0m\u001b[0moutput_text\u001b[0m\u001b[0;34m)\u001b[0m\u001b[0;34m\u001b[0m\u001b[0;34m\u001b[0m\u001b[0m\n",
      "\u001b[0;31mIndexError\u001b[0m: string index out of range"
     ]
    }
   ],
   "source": [
    "alphabet_words = \"abcdefghijklmnopqrstuvwxyz\"\n",
    "input_text = input(\"Enter a message: \")\n",
    "\n",
    "output_text = \"\"\n",
    "for word in  input_text:\n",
    "    alpha_index = alphabet_words.find(word)\n",
    "    output_text = output_text + alphabet_words[alpha_index + 5]\n",
    "print(output_text)\n",
    "\n",
    "# this will display an error message if the user enters more than 5 letters"
   ]
  },
  {
   "cell_type": "markdown",
   "metadata": {},
   "source": [
    "SOLUTION 3:"
   ]
  },
  {
   "cell_type": "code",
   "execution_count": 14,
   "metadata": {},
   "outputs": [
    {
     "name": "stdout",
     "output_type": "stream",
     "text": [
      "khoor zruog\n"
     ]
    }
   ],
   "source": [
    "class CaesarCipher:\n",
    "    def __init__(self, string, shift):\n",
    "        self.string = string\n",
    "        self.shift = shift\n",
    "\n",
    "    def encrypt(self):\n",
    "        encrypted_string = \"\"\n",
    "        for char in self.string:\n",
    "            if char.isalpha():\n",
    "                encrypted_char = chr((ord(char) - ord('a') + self.shift) % 26 + ord('a'))\n",
    "                encrypted_string += encrypted_char\n",
    "            else:\n",
    "                encrypted_string += char\n",
    "        return encrypted_string\n",
    "\n",
    "    def decrypt(self):\n",
    "        decrypted_string = \"\"\n",
    "        for char in self.string:\n",
    "            if char.isalpha():\n",
    "                decrypted_char = chr((ord(char) - ord('a') - self.shift) % 26 + ord('a'))\n",
    "                decrypted_string += decrypted_char\n",
    "            else:\n",
    "                decrypted_string += char\n",
    "        return decrypted_string\n",
    "\n",
    "\n",
    "message = input(\"Enter a message to encrypt: \")\n",
    "shift = int(input(\"Enter a shift value: \"))\n",
    "\n",
    "print(CaesarCipher(message, shift).encrypt())\n"
   ]
  },
  {
   "cell_type": "code",
   "execution_count": 15,
   "metadata": {},
   "outputs": [
    {
     "name": "stdout",
     "output_type": "stream",
     "text": [
      "smnx nx f rjxxflj kwtr ymj xjhwjy xjwanhj\n"
     ]
    }
   ],
   "source": [
    "message_2 = \"This is a message from the secret service\"\n",
    "shift_2 = 5\n",
    "print(CaesarCipher(message_2, shift_2).encrypt())"
   ]
  },
  {
   "cell_type": "markdown",
   "metadata": {},
   "source": [
    "SOLUTION 4:"
   ]
  },
  {
   "cell_type": "code",
   "execution_count": 21,
   "metadata": {},
   "outputs": [],
   "source": [
    "def shift_amount(x):\n",
    "    return x%26\n",
    "\n",
    "def encrypt(message, required_shift):\n",
    "    encrypted_string = \"\"\n",
    "    message = message.lower()\n",
    "    for char in message:\n",
    "        if char not in alphabet_words:\n",
    "            encrypted_string += char\n",
    "        else:\n",
    "            alpha_index = alphabet_words.find(char)\n",
    "            encrypted_string = encrypted_string + alphabet_words[shift_amount(alpha_index + required_shift)]\n",
    "    return encrypted_string"
   ]
  },
  {
   "cell_type": "code",
   "execution_count": 22,
   "metadata": {},
   "outputs": [
    {
     "name": "stdout",
     "output_type": "stream",
     "text": [
      "mjqqt, btwqi!\n"
     ]
    }
   ],
   "source": [
    "print(encrypt(\"Hello, World!\", 5))"
   ]
  },
  {
   "cell_type": "code",
   "execution_count": null,
   "metadata": {},
   "outputs": [],
   "source": []
  }
 ],
 "metadata": {
  "interpreter": {
   "hash": "7e1998ff7f8aa20ada591c520b972326324e5ea05489af9e422744c7c09f6dad"
  },
  "kernelspec": {
   "display_name": "Python 3.10.0 64-bit",
   "language": "python",
   "name": "python3"
  },
  "language_info": {
   "codemirror_mode": {
    "name": "ipython",
    "version": 3
   },
   "file_extension": ".py",
   "mimetype": "text/x-python",
   "name": "python",
   "nbconvert_exporter": "python",
   "pygments_lexer": "ipython3",
   "version": "3.10.0"
  },
  "orig_nbformat": 4
 },
 "nbformat": 4,
 "nbformat_minor": 2
}
