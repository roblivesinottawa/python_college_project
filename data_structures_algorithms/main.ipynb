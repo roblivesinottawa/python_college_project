{
 "cells": [
  {
   "cell_type": "markdown",
   "metadata": {},
   "source": [
    "LINEAR SEARCH"
   ]
  },
  {
   "cell_type": "markdown",
   "metadata": {},
   "source": [
    "linear search is a search algorithm that finds the first occurrence of a target value in a given array."
   ]
  },
  {
   "cell_type": "code",
   "execution_count": 7,
   "metadata": {},
   "outputs": [],
   "source": [
    "def linear_search(item, _list):\n",
    "    for i in range(len(_list)):\n",
    "        if _list[i] == item:\n",
    "            return i\n",
    "    return -1"
   ]
  },
  {
   "cell_type": "code",
   "execution_count": 12,
   "metadata": {},
   "outputs": [
    {
     "name": "stdout",
     "output_type": "stream",
     "text": [
      "-1\n",
      "The searched integer is at index: 5\n"
     ]
    }
   ],
   "source": [
    "test = [4, 5, 2, 7, 90, 34, 2, 1, 0, -1]\n",
    "print(f\"The searched integer is at index: {linear_search(34, test)}\")"
   ]
  },
  {
   "cell_type": "code",
   "execution_count": 13,
   "metadata": {},
   "outputs": [],
   "source": [
    "def linear_search2(item, _list):\n",
    "    i = 0\n",
    "    found = False\n",
    "\n",
    "    while i < len(_list) and not found:\n",
    "        if _list[i] == item:\n",
    "            found = True\n",
    "        else:\n",
    "            i += 1\n",
    "    return found"
   ]
  },
  {
   "cell_type": "code",
   "execution_count": 16,
   "metadata": {},
   "outputs": [
    {
     "name": "stdout",
     "output_type": "stream",
     "text": [
      "The searched exists: True\n",
      "The searched exists: False\n"
     ]
    }
   ],
   "source": [
    "test2 = [4, 5, 2, 7, 90, 34, 2, 1, 0, -1]\n",
    "print(f\"The searched exists: {linear_search2(34, test2)}\")\n",
    "print(f\"The searched exists: {linear_search2(100, test2)}\")"
   ]
  },
  {
   "cell_type": "markdown",
   "metadata": {},
   "source": [
    "BINARY SEARCH"
   ]
  },
  {
   "cell_type": "markdown",
   "metadata": {},
   "source": [
    "binary search is a search algorithm that works by comparing the target value to the middle element of the array. If the target value is greater than the middle element, the search continues on the right half of the array. If the target value is less than the middle element, the search continues on the left half of the array. If the value is found, the algorithm returns its index, otherwise it returns -1."
   ]
  },
  {
   "cell_type": "code",
   "execution_count": 23,
   "metadata": {},
   "outputs": [],
   "source": [
    "def binary_search(item, _list):\n",
    "    found = False\n",
    "    first = 0\n",
    "    last = len(_list) - 1\n",
    "\n",
    "    while first <= last and not found:\n",
    "        mid = (first + last) // 2\n",
    "        if _list[mid] == item:\n",
    "            found = True\n",
    "        else:\n",
    "            if _list[mid] < item:\n",
    "                first = mid + 1\n",
    "            else:\n",
    "                last = mid - 1\n",
    "    return found"
   ]
  },
  {
   "cell_type": "code",
   "execution_count": 25,
   "metadata": {},
   "outputs": [
    {
     "name": "stdout",
     "output_type": "stream",
     "text": [
      "The searched exists: True\n"
     ]
    }
   ],
   "source": [
    "test3 = [4, 5, 2, 7, 90, 34, 2, 1, 0, -1]\n",
    "print(f\"The searched exists: {binary_search(4, test3)}\")"
   ]
  },
  {
   "cell_type": "markdown",
   "metadata": {},
   "source": [
    "BUBBLE SORT"
   ]
  },
  {
   "cell_type": "markdown",
   "metadata": {},
   "source": [
    "bubble sort is a simple sorting algorithm that works by repeatedly swapping the adjacent elements if they are in the wrong order."
   ]
  },
  {
   "cell_type": "code",
   "execution_count": 26,
   "metadata": {},
   "outputs": [],
   "source": [
    "def bubble_sort(list):\n",
    "    for i in range(len(list) - 1):\n",
    "        for j in range(len(list) - 1 - i):\n",
    "            if list[j] > list[j + 1]:\n",
    "                list[j], list[j + 1] = list[j + 1], list[j]\n",
    "    return list"
   ]
  },
  {
   "cell_type": "code",
   "execution_count": 27,
   "metadata": {},
   "outputs": [
    {
     "name": "stdout",
     "output_type": "stream",
     "text": [
      "Sorted list: [0, 1, 2, 3, 4, 5, 6, 7, 8, 9]\n"
     ]
    }
   ],
   "source": [
    "l = [3, 5, 1, 6, 9, 4, 2, 7, 8, 0]\n",
    "print(f\"Sorted list: {bubble_sort(l)}\")\n"
   ]
  },
  {
   "cell_type": "markdown",
   "metadata": {},
   "source": [
    "INSERTION SORT"
   ]
  },
  {
   "cell_type": "markdown",
   "metadata": {},
   "source": [
    "insertion sort is a simple sorting algorithm that works by iterating through the array, comparing each pair of adjacent elements and then swapping them if they are in the wrong order."
   ]
  },
  {
   "cell_type": "code",
   "execution_count": 30,
   "metadata": {},
   "outputs": [],
   "source": [
    "def insertion_sort(list):\n",
    "    n = len(list)\n",
    "    for i in range(1, n):\n",
    "        j = i\n",
    "        while j > 0 and list[j] < list[j - 1]:\n",
    "            list[j], list[j - 1] = list[j - 1], list[j]\n",
    "            j -= 1\n",
    "    return list"
   ]
  },
  {
   "cell_type": "code",
   "execution_count": 31,
   "metadata": {},
   "outputs": [
    {
     "name": "stdout",
     "output_type": "stream",
     "text": [
      "Sorted list: [0, 1, 2, 3, 4, 5, 6, 7, 8, 9]\n"
     ]
    }
   ],
   "source": [
    "l = [3, 5, 1, 6, 9, 4, 2, 7, 8, 0]\n",
    "print(f\"Sorted list: {insertion_sort(l)}\")"
   ]
  },
  {
   "cell_type": "markdown",
   "metadata": {},
   "source": [
    "LUHN'S ALGORITHM"
   ]
  },
  {
   "cell_type": "markdown",
   "metadata": {},
   "source": [
    "luhn's algorithm is a simple algorithm that checks whether a credit card number is valid."
   ]
  },
  {
   "cell_type": "code",
   "execution_count": 1,
   "metadata": {},
   "outputs": [],
   "source": [
    "def luhn_algorithm(card_number):\n",
    "    card_number = str(card_number)\n",
    "    sum = 0\n",
    "    for i in range(len(card_number)):\n",
    "        if i % 2 == 0:\n",
    "            sum += int(card_number[i])\n",
    "        else:\n",
    "            sum += int(card_number[i]) * 2\n",
    "    return sum % 10 == 0"
   ]
  },
  {
   "cell_type": "code",
   "execution_count": 2,
   "metadata": {},
   "outputs": [
    {
     "name": "stdout",
     "output_type": "stream",
     "text": [
      "False\n"
     ]
    }
   ],
   "source": [
    "print(luhn_algorithm(79927398713))"
   ]
  },
  {
   "cell_type": "code",
   "execution_count": 8,
   "metadata": {},
   "outputs": [
    {
     "name": "stdout",
     "output_type": "stream",
     "text": [
      "None\n"
     ]
    }
   ],
   "source": []
  },
  {
   "cell_type": "code",
   "execution_count": null,
   "metadata": {},
   "outputs": [],
   "source": []
  }
 ],
 "metadata": {
  "interpreter": {
   "hash": "7e1998ff7f8aa20ada591c520b972326324e5ea05489af9e422744c7c09f6dad"
  },
  "kernelspec": {
   "display_name": "Python 3.10.0 64-bit",
   "language": "python",
   "name": "python3"
  },
  "language_info": {
   "codemirror_mode": {
    "name": "ipython",
    "version": 3
   },
   "file_extension": ".py",
   "mimetype": "text/x-python",
   "name": "python",
   "nbconvert_exporter": "python",
   "pygments_lexer": "ipython3",
   "version": "3.10.0"
  },
  "orig_nbformat": 4
 },
 "nbformat": 4,
 "nbformat_minor": 2
}
