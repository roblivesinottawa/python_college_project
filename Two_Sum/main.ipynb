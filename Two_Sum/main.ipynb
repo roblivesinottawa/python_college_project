{
 "cells": [
  {
   "cell_type": "markdown",
   "metadata": {},
   "source": [
    "CREATE A SOLUTION FOR THE TWO-SUM PROBLEM"
   ]
  },
  {
   "cell_type": "code",
   "execution_count": 1,
   "metadata": {},
   "outputs": [
    {
     "name": "stdout",
     "output_type": "stream",
     "text": [
      "[0, 1]\n"
     ]
    }
   ],
   "source": [
    "def two_sum(l, target):\n",
    "    \"\"\"\n",
    "    :type l: List[int]\n",
    "    :type target: int\n",
    "    :rtype: List[int]\n",
    "    \"\"\"\n",
    "    for i in range(len(l)):\n",
    "        for j in range(i+1, len(l)):\n",
    "            if l[i] + l[j] == target:\n",
    "                return [i, j]\n",
    "    return []\n",
    "\n",
    "l = [2, 7, 11, 15]\n",
    "target = 9\n",
    "print(two_sum(l, target))"
   ]
  },
  {
   "cell_type": "markdown",
   "metadata": {},
   "source": [
    "TWO-SUM SOLUTION USING A CLASS"
   ]
  },
  {
   "cell_type": "code",
   "execution_count": 3,
   "metadata": {},
   "outputs": [
    {
     "name": "stdout",
     "output_type": "stream",
     "text": [
      "True\n"
     ]
    }
   ],
   "source": [
    "class TwoSum(object):\n",
    "    def __init__(self):\n",
    "        self.d = {}\n",
    "\n",
    "    def add(self, number):\n",
    "        if number in self.d:\n",
    "            self.d[number] += 1\n",
    "        else:\n",
    "            self.d[number] = 1\n",
    "\n",
    "    def find(self, value):\n",
    "        for k, v in self.d.items():\n",
    "            if value - k in self.d and (value - k != k or v > 1):\n",
    "                return True\n",
    "        return False\n",
    "_list = [2, 7, 11, 15]\n",
    "_target = 9\n",
    "_two_sum = TwoSum()\n",
    "for i in _list:\n",
    "    _two_sum.add(i)\n",
    "print(_two_sum.find(_target))\n"
   ]
  },
  {
   "cell_type": "code",
   "execution_count": 6,
   "metadata": {},
   "outputs": [
    {
     "name": "stdout",
     "output_type": "stream",
     "text": [
      "[0, 1]\n"
     ]
    }
   ],
   "source": [
    "def twoSum(self, nums, target):\n",
    "    \"\"\"\n",
    "    :type nums: List[int]\n",
    "    :type target: int\n",
    "    :rtype: List[int]\n",
    "    \"\"\"\n",
    "    d = {}\n",
    "    answer = []\n",
    "    for i in range(len(nums)):\n",
    "        second_num = target - nums[i]\n",
    "        if second_num in d.keys():\n",
    "            second_index = nums.index(second_num)\n",
    "            if i != second_index:\n",
    "                return sorted([i, second_index])\n",
    "\n",
    "        d.update({nums[i]: i})\n",
    "\n",
    "print(twoSum(None, [2, 7, 11, 15], 9))\n",
    "    "
   ]
  },
  {
   "cell_type": "code",
   "execution_count": 8,
   "metadata": {},
   "outputs": [
    {
     "name": "stdout",
     "output_type": "stream",
     "text": [
      "--- 1.1520020961761475 seconds ---\n"
     ]
    }
   ],
   "source": [
    "# check runtime of function\n",
    "import time\n",
    "\n",
    "start_time = time.time()\n",
    "for i in range(1000000):\n",
    "    two_sum(l, target)\n",
    "print(\"--- %s seconds ---\" % (time.time() - start_time))\n"
   ]
  },
  {
   "cell_type": "code",
   "execution_count": 11,
   "metadata": {},
   "outputs": [
    {
     "name": "stdout",
     "output_type": "stream",
     "text": [
      "--- 1.9201469421386719 seconds ---\n"
     ]
    }
   ],
   "source": [
    "start_time = time.time()\n",
    "for i in range(1000000):\n",
    "   twoSum(None, _list, _target)\n",
    "print(\"--- %s seconds ---\" % (time.time() - start_time))"
   ]
  },
  {
   "cell_type": "markdown",
   "metadata": {},
   "source": [
    "TWO-SUM BRUTE FORCE SOLUTION"
   ]
  },
  {
   "cell_type": "code",
   "execution_count": 13,
   "metadata": {},
   "outputs": [
    {
     "name": "stdout",
     "output_type": "stream",
     "text": [
      "[0, 1]\n"
     ]
    }
   ],
   "source": [
    "\"\"\"create a list of values and a target value. Then, \n",
    "create a for loop that will iterate through the list.\n",
    "if the target is found, return the index of the target.\"\"\"\n",
    "\n",
    "_list = [2, 7, 8, 11, 15]\n",
    "_target = 10\n",
    "\n",
    "for i in range(len(_list)):\n",
    "    for j in range(i+1, len(_list)):\n",
    "        if _list[i] + _list[j] == target:\n",
    "            print([i, j])\n",
    "\n"
   ]
  },
  {
   "cell_type": "code",
   "execution_count": null,
   "metadata": {},
   "outputs": [],
   "source": []
  }
 ],
 "metadata": {
  "interpreter": {
   "hash": "7e1998ff7f8aa20ada591c520b972326324e5ea05489af9e422744c7c09f6dad"
  },
  "kernelspec": {
   "display_name": "Python 3.10.0 64-bit",
   "language": "python",
   "name": "python3"
  },
  "language_info": {
   "codemirror_mode": {
    "name": "ipython",
    "version": 3
   },
   "file_extension": ".py",
   "mimetype": "text/x-python",
   "name": "python",
   "nbconvert_exporter": "python",
   "pygments_lexer": "ipython3",
   "version": "3.10.0"
  },
  "orig_nbformat": 4
 },
 "nbformat": 4,
 "nbformat_minor": 2
}
