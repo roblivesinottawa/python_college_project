{
 "cells": [
  {
   "cell_type": "markdown",
   "metadata": {},
   "source": [
    "# tabs and new lines"
   ]
  },
  {
   "cell_type": "code",
   "execution_count": 3,
   "metadata": {},
   "outputs": [
    {
     "name": "stdout",
     "output_type": "stream",
     "text": [
      "This is a \n",
      " new line\n"
     ]
    }
   ],
   "source": [
    "print('This is a \\n new line')"
   ]
  },
  {
   "cell_type": "code",
   "execution_count": 4,
   "metadata": {},
   "outputs": [
    {
     "name": "stdout",
     "output_type": "stream",
     "text": [
      "This is a \t tab\n"
     ]
    }
   ],
   "source": [
    "print('This is a \\t tab')"
   ]
  },
  {
   "cell_type": "code",
   "execution_count": 9,
   "metadata": {},
   "outputs": [
    {
     "name": "stdout",
     "output_type": "stream",
     "text": [
      "all \n",
      " in \n",
      "a \n",
      " new \n",
      " line\n"
     ]
    }
   ],
   "source": [
    "print('all \\n in \\na \\n new \\n line')"
   ]
  },
  {
   "cell_type": "code",
   "execution_count": null,
   "metadata": {},
   "outputs": [],
   "source": []
  },
  {
   "cell_type": "markdown",
   "metadata": {},
   "source": [
    "# variables"
   ]
  },
  {
   "cell_type": "code",
   "execution_count": 10,
   "metadata": {},
   "outputs": [
    {
     "name": "stdout",
     "output_type": "stream",
     "text": [
      "15\n"
     ]
    }
   ],
   "source": [
    "x = 5\n",
    "y = 10\n",
    "print(x + y)"
   ]
  },
  {
   "cell_type": "code",
   "execution_count": 11,
   "metadata": {},
   "outputs": [
    {
     "name": "stdout",
     "output_type": "stream",
     "text": [
      "50\n"
     ]
    }
   ],
   "source": [
    "z = x * y\n",
    "print(z)"
   ]
  },
  {
   "cell_type": "code",
   "execution_count": 12,
   "metadata": {},
   "outputs": [
    {
     "name": "stdout",
     "output_type": "stream",
     "text": [
      "John\n"
     ]
    }
   ],
   "source": [
    "name = 'John'\n",
    "print(name)"
   ]
  },
  {
   "cell_type": "code",
   "execution_count": 13,
   "metadata": {},
   "outputs": [
    {
     "name": "stdout",
     "output_type": "stream",
     "text": [
      "my name is Rob\n"
     ]
    }
   ],
   "source": [
    "name = input('What is your name? ')\n",
    "answer = f\"my name is {name}\"\n",
    "print(answer)"
   ]
  },
  {
   "cell_type": "code",
   "execution_count": 14,
   "metadata": {},
   "outputs": [
    {
     "name": "stdout",
     "output_type": "stream",
     "text": [
      "15.700000000000001\n"
     ]
    }
   ],
   "source": [
    "pi = 3.14\n",
    "a = pi * 5\n",
    "print(a)"
   ]
  },
  {
   "cell_type": "code",
   "execution_count": 16,
   "metadata": {},
   "outputs": [
    {
     "name": "stdout",
     "output_type": "stream",
     "text": [
      "19.625\n"
     ]
    }
   ],
   "source": [
    "radius = 2.5\n",
    "pi = 3.14\n",
    "area = pi * radius ** 2\n",
    "print(area)"
   ]
  },
  {
   "cell_type": "markdown",
   "metadata": {},
   "source": [
    "# strings"
   ]
  },
  {
   "cell_type": "code",
   "execution_count": 18,
   "metadata": {},
   "outputs": [
    {
     "name": "stdout",
     "output_type": "stream",
     "text": [
      "The cat sit on the mat. And the dog did as well.\n"
     ]
    }
   ],
   "source": [
    "sentence = 'The cat sit on the mat.'\n",
    "sentence2 = 'And the dog did as well.'\n",
    "sentence3 = sentence + \" \" + sentence2\n",
    "print(sentence3)"
   ]
  },
  {
   "cell_type": "code",
   "execution_count": 20,
   "metadata": {},
   "outputs": [
    {
     "name": "stdout",
     "output_type": "stream",
     "text": [
      "35\n",
      "I'm 35 years old.\n"
     ]
    }
   ],
   "source": [
    "age = input('How old are you?\\n')\n",
    "answer = f\"I'm {age} years old.\"\n",
    "print(age)\n",
    "print(answer)"
   ]
  },
  {
   "cell_type": "code",
   "execution_count": 23,
   "metadata": {},
   "outputs": [
    {
     "name": "stdout",
     "output_type": "stream",
     "text": [
      "Johnson\n"
     ]
    }
   ],
   "source": [
    "user_input = input('what is your last name? >>> ')\n",
    "print(user_input.title())"
   ]
  },
  {
   "cell_type": "markdown",
   "metadata": {},
   "source": [
    "# asking the editor for help"
   ]
  },
  {
   "cell_type": "code",
   "execution_count": 24,
   "metadata": {},
   "outputs": [
    {
     "name": "stdout",
     "output_type": "stream",
     "text": [
      "\n",
      "Welcome to Python 3.8's help utility!\n",
      "\n",
      "If this is your first time using Python, you should definitely check out\n",
      "the tutorial on the Internet at https://docs.python.org/3.8/tutorial/.\n",
      "\n",
      "Enter the name of any module, keyword, or topic to get help on writing\n",
      "Python programs and using Python modules.  To quit this help utility and\n",
      "return to the interpreter, just type \"quit\".\n",
      "\n",
      "To get a list of available modules, keywords, symbols, or topics, type\n",
      "\"modules\", \"keywords\", \"symbols\", or \"topics\".  Each module also comes\n",
      "with a one-line summary of what it does; to list the modules whose name\n",
      "or summary contain a given string such as \"spam\", type \"modules spam\".\n",
      "\n",
      "\n",
      "You are now leaving help and returning to the Python interpreter.\n",
      "If you want to ask for help on a particular object directly from the\n",
      "interpreter, you can type \"help(object)\".  Executing \"help('string')\"\n",
      "has the same effect as typing a particular string at the help> prompt.\n"
     ]
    }
   ],
   "source": [
    "help()"
   ]
  },
  {
   "cell_type": "markdown",
   "metadata": {},
   "source": [
    "# simple programs"
   ]
  },
  {
   "cell_type": "code",
   "execution_count": 29,
   "metadata": {},
   "outputs": [
    {
     "name": "stdout",
     "output_type": "stream",
     "text": [
      "The weather in celsius is 30.\n",
      "The weather in farenheit is 86.0\n"
     ]
    }
   ],
   "source": [
    "# write a program that asks the user for weather in celsius and then the program converts the weather to farenheit\n",
    "celsius = input('what is the temperature in celsius? ')\n",
    "fahrenheit = (float(celsius) * 9/5) + 32\n",
    "print(f\"The weather in celsius is {celsius}.\")\n",
    "print(f\"The weather in farenheit is {fahrenheit}\")"
   ]
  },
  {
   "cell_type": "code",
   "execution_count": 30,
   "metadata": {},
   "outputs": [
    {
     "name": "stdout",
     "output_type": "stream",
     "text": [
      "The weather in farenheit is 100.\n",
      "The weather in celsius is 37.77777777777778\n"
     ]
    }
   ],
   "source": [
    "# write a program that asks the user for weather in farenheit and then the program converts the weather to celsius\n",
    "fahrenheit = input('what is the temperature in farenheit? ')\n",
    "celsius = (float(fahrenheit) - 32) * 5/9\n",
    "print(f\"The weather in farenheit is {fahrenheit}.\")\n",
    "print(f\"The weather in celsius is {celsius}\")"
   ]
  },
  {
   "cell_type": "code",
   "execution_count": 31,
   "metadata": {},
   "outputs": [
    {
     "name": "stdout",
     "output_type": "stream",
     "text": [
      "The area of the circle is 19.625\n"
     ]
    }
   ],
   "source": [
    "# ask the user for the radius of an area then print the area\n",
    "user_input = float(input('Please enter the radius of the circle: >>>'))\n",
    "pi = 3.14\n",
    "area = pi * radius ** 2\n",
    "print(f\"The area of the circle is {area}\")"
   ]
  },
  {
   "cell_type": "code",
   "execution_count": 32,
   "metadata": {},
   "outputs": [
    {
     "name": "stdout",
     "output_type": "stream",
     "text": [
      "656\n"
     ]
    }
   ],
   "source": [
    "# obtain the sum of two integers\n",
    "first = int(input('Please, enter the first integer: '))\n",
    "second = int(input('Please, enter the second integer: '))\n",
    "result = first + second\n",
    "print(result)"
   ]
  },
  {
   "cell_type": "code",
   "execution_count": 33,
   "metadata": {},
   "outputs": [
    {
     "name": "stdout",
     "output_type": "stream",
     "text": [
      "The result of the product of 10 and 20 is 200 \n"
     ]
    }
   ],
   "source": [
    "# obtain the product of two integers\n",
    "first_int = int(input('Enter first integer: '))\n",
    "second_int = int(input('Enter second integer: '))\n",
    "result = f\"The result of the product of {first_int} and {second_int} is {first_int * second_int} \"\n",
    "print(result)"
   ]
  },
  {
   "cell_type": "code",
   "execution_count": 35,
   "metadata": {},
   "outputs": [
    {
     "name": "stdout",
     "output_type": "stream",
     "text": [
      "You will need 3 pizzas to feed all the people.\n",
      "You will have 2 slices left over.\n"
     ]
    }
   ],
   "source": [
    "total_slices = 4 * 4\n",
    "number_of_pizzas = (total_slices + 5) // 6\n",
    "slices_left = number_of_pizzas * 6 - total_slices\n",
    "print(f\"You will need {number_of_pizzas} pizzas to feed all the people.\")\n",
    "print(f\"You will have {slices_left} slices left over.\")"
   ]
  },
  {
   "cell_type": "code",
   "execution_count": 40,
   "metadata": {},
   "outputs": [
    {
     "name": "stdout",
     "output_type": "stream",
     "text": [
      "1345\n"
     ]
    }
   ],
   "source": [
    "# given two numbers, write a program that will find the maximum number\n",
    "x = 786\n",
    "y = 1345\n",
    "\n",
    "if x >= y: print(x)\n",
    "elif y >= x: print(y)"
   ]
  },
  {
   "cell_type": "code",
   "execution_count": 45,
   "metadata": {},
   "outputs": [
    {
     "name": "stdout",
     "output_type": "stream",
     "text": [
      "The factorial of 20 is 8828514807271391232000000\n"
     ]
    }
   ],
   "source": [
    "# find the factorial of an integer\n",
    "fact = 1\n",
    "num = int(input(\"Enter an integer to calculate factorial: \"))\n",
    "for n in range(1, num+1):\n",
    "    factorial = factorial * n\n",
    "print(f\"The factorial of {num} is {factorial}\")\n"
   ]
  },
  {
   "cell_type": "code",
   "execution_count": 50,
   "metadata": {},
   "outputs": [
    {
     "name": "stdout",
     "output_type": "stream",
     "text": [
      "the fibonacci of 10 is 55\n"
     ]
    }
   ],
   "source": [
    "# find the fibonacci of a number\n",
    "fib = 1\n",
    "fibonacci = 0\n",
    "num = int(input('enter an integer to calculate fibonacci: '))\n",
    "for n in range(1, num+1):\n",
    "    fibonacci = fibonacci + fib\n",
    "    fib = fibonacci - fib\n",
    "print(f'the fibonacci of {num} is {fibonacci}')"
   ]
  },
  {
   "cell_type": "markdown",
   "metadata": {},
   "source": [
    "# conditionals"
   ]
  },
  {
   "cell_type": "code",
   "execution_count": null,
   "metadata": {},
   "outputs": [],
   "source": []
  }
 ],
 "metadata": {
  "interpreter": {
   "hash": "dee03b1924112c3238d23c98c3f985545bca73e9aa3cd91bc9d617365e696192"
  },
  "kernelspec": {
   "display_name": "Python 3.8.8 64-bit ('base': conda)",
   "name": "python3"
  },
  "language_info": {
   "codemirror_mode": {
    "name": "ipython",
    "version": 3
   },
   "file_extension": ".py",
   "mimetype": "text/x-python",
   "name": "python",
   "nbconvert_exporter": "python",
   "pygments_lexer": "ipython3",
   "version": "3.8.8"
  },
  "orig_nbformat": 4
 },
 "nbformat": 4,
 "nbformat_minor": 2
}
