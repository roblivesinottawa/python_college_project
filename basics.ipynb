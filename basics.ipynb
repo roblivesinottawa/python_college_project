{
 "cells": [
  {
   "cell_type": "markdown",
   "metadata": {},
   "source": [
    "# tabs and new lines"
   ]
  },
  {
   "cell_type": "code",
   "execution_count": 3,
   "metadata": {},
   "outputs": [
    {
     "name": "stdout",
     "output_type": "stream",
     "text": [
      "This is a \n",
      " new line\n"
     ]
    }
   ],
   "source": [
    "print('This is a \\n new line')"
   ]
  },
  {
   "cell_type": "code",
   "execution_count": 4,
   "metadata": {},
   "outputs": [
    {
     "name": "stdout",
     "output_type": "stream",
     "text": [
      "This is a \t tab\n"
     ]
    }
   ],
   "source": [
    "print('This is a \\t tab')"
   ]
  },
  {
   "cell_type": "code",
   "execution_count": 9,
   "metadata": {},
   "outputs": [
    {
     "name": "stdout",
     "output_type": "stream",
     "text": [
      "all \n",
      " in \n",
      "a \n",
      " new \n",
      " line\n"
     ]
    }
   ],
   "source": [
    "print('all \\n in \\na \\n new \\n line')"
   ]
  },
  {
   "cell_type": "code",
   "execution_count": null,
   "metadata": {},
   "outputs": [],
   "source": []
  },
  {
   "cell_type": "markdown",
   "metadata": {},
   "source": [
    "# variables"
   ]
  },
  {
   "cell_type": "code",
   "execution_count": 10,
   "metadata": {},
   "outputs": [
    {
     "name": "stdout",
     "output_type": "stream",
     "text": [
      "15\n"
     ]
    }
   ],
   "source": [
    "x = 5\n",
    "y = 10\n",
    "print(x + y)"
   ]
  },
  {
   "cell_type": "code",
   "execution_count": 11,
   "metadata": {},
   "outputs": [
    {
     "name": "stdout",
     "output_type": "stream",
     "text": [
      "50\n"
     ]
    }
   ],
   "source": [
    "z = x * y\n",
    "print(z)"
   ]
  },
  {
   "cell_type": "code",
   "execution_count": 12,
   "metadata": {},
   "outputs": [
    {
     "name": "stdout",
     "output_type": "stream",
     "text": [
      "John\n"
     ]
    }
   ],
   "source": [
    "name = 'John'\n",
    "print(name)"
   ]
  },
  {
   "cell_type": "code",
   "execution_count": 13,
   "metadata": {},
   "outputs": [
    {
     "name": "stdout",
     "output_type": "stream",
     "text": [
      "my name is Rob\n"
     ]
    }
   ],
   "source": [
    "name = input('What is your name? ')\n",
    "answer = f\"my name is {name}\"\n",
    "print(answer)"
   ]
  },
  {
   "cell_type": "code",
   "execution_count": 14,
   "metadata": {},
   "outputs": [
    {
     "name": "stdout",
     "output_type": "stream",
     "text": [
      "15.700000000000001\n"
     ]
    }
   ],
   "source": [
    "pi = 3.14\n",
    "a = pi * 5\n",
    "print(a)"
   ]
  },
  {
   "cell_type": "code",
   "execution_count": 16,
   "metadata": {},
   "outputs": [
    {
     "name": "stdout",
     "output_type": "stream",
     "text": [
      "19.625\n"
     ]
    }
   ],
   "source": [
    "radius = 2.5\n",
    "pi = 3.14\n",
    "area = pi * radius ** 2\n",
    "print(area)"
   ]
  },
  {
   "cell_type": "markdown",
   "metadata": {},
   "source": [
    "# strings"
   ]
  },
  {
   "cell_type": "code",
   "execution_count": 18,
   "metadata": {},
   "outputs": [
    {
     "name": "stdout",
     "output_type": "stream",
     "text": [
      "The cat sit on the mat. And the dog did as well.\n"
     ]
    }
   ],
   "source": [
    "sentence = 'The cat sit on the mat.'\n",
    "sentence2 = 'And the dog did as well.'\n",
    "sentence3 = sentence + \" \" + sentence2\n",
    "print(sentence3)"
   ]
  },
  {
   "cell_type": "code",
   "execution_count": 20,
   "metadata": {},
   "outputs": [
    {
     "name": "stdout",
     "output_type": "stream",
     "text": [
      "35\n",
      "I'm 35 years old.\n"
     ]
    }
   ],
   "source": [
    "age = input('How old are you?\\n')\n",
    "answer = f\"I'm {age} years old.\"\n",
    "print(age)\n",
    "print(answer)"
   ]
  },
  {
   "cell_type": "code",
   "execution_count": 23,
   "metadata": {},
   "outputs": [
    {
     "name": "stdout",
     "output_type": "stream",
     "text": [
      "Johnson\n"
     ]
    }
   ],
   "source": [
    "user_input = input('what is your last name? >>> ')\n",
    "print(user_input.title())"
   ]
  },
  {
   "cell_type": "code",
   "execution_count": 27,
   "metadata": {},
   "outputs": [
    {
     "data": {
      "text/plain": [
       "'U'"
      ]
     },
     "execution_count": 27,
     "metadata": {},
     "output_type": "execute_result"
    }
   ],
   "source": [
    "# string slicing\n",
    "country = 'United States of America'\n",
    "country[0]"
   ]
  },
  {
   "cell_type": "code",
   "execution_count": 29,
   "metadata": {},
   "outputs": [
    {
     "data": {
      "text/plain": [
       "'United'"
      ]
     },
     "execution_count": 29,
     "metadata": {},
     "output_type": "execute_result"
    }
   ],
   "source": [
    "country[0:6]"
   ]
  },
  {
   "cell_type": "code",
   "execution_count": 31,
   "metadata": {},
   "outputs": [
    {
     "data": {
      "text/plain": [
       "'States'"
      ]
     },
     "execution_count": 31,
     "metadata": {},
     "output_type": "execute_result"
    }
   ],
   "source": [
    "country[7:13]"
   ]
  },
  {
   "cell_type": "code",
   "execution_count": 32,
   "metadata": {},
   "outputs": [
    {
     "data": {
      "text/plain": [
       "'united states of america'"
      ]
     },
     "execution_count": 32,
     "metadata": {},
     "output_type": "execute_result"
    }
   ],
   "source": [
    "country.lower()"
   ]
  },
  {
   "cell_type": "code",
   "execution_count": 33,
   "metadata": {},
   "outputs": [
    {
     "data": {
      "text/plain": [
       "'UNITED STATES OF AMERICA'"
      ]
     },
     "execution_count": 33,
     "metadata": {},
     "output_type": "execute_result"
    }
   ],
   "source": [
    "country.upper()"
   ]
  },
  {
   "cell_type": "code",
   "execution_count": 34,
   "metadata": {},
   "outputs": [
    {
     "data": {
      "text/plain": [
       "'United States Of America'"
      ]
     },
     "execution_count": 34,
     "metadata": {},
     "output_type": "execute_result"
    }
   ],
   "source": [
    "country.title()"
   ]
  },
  {
   "cell_type": "code",
   "execution_count": null,
   "metadata": {},
   "outputs": [],
   "source": []
  },
  {
   "cell_type": "markdown",
   "metadata": {},
   "source": [
    "# asking the editor for help"
   ]
  },
  {
   "cell_type": "code",
   "execution_count": 24,
   "metadata": {},
   "outputs": [
    {
     "name": "stdout",
     "output_type": "stream",
     "text": [
      "\n",
      "Welcome to Python 3.8's help utility!\n",
      "\n",
      "If this is your first time using Python, you should definitely check out\n",
      "the tutorial on the Internet at https://docs.python.org/3.8/tutorial/.\n",
      "\n",
      "Enter the name of any module, keyword, or topic to get help on writing\n",
      "Python programs and using Python modules.  To quit this help utility and\n",
      "return to the interpreter, just type \"quit\".\n",
      "\n",
      "To get a list of available modules, keywords, symbols, or topics, type\n",
      "\"modules\", \"keywords\", \"symbols\", or \"topics\".  Each module also comes\n",
      "with a one-line summary of what it does; to list the modules whose name\n",
      "or summary contain a given string such as \"spam\", type \"modules spam\".\n",
      "\n",
      "\n",
      "You are now leaving help and returning to the Python interpreter.\n",
      "If you want to ask for help on a particular object directly from the\n",
      "interpreter, you can type \"help(object)\".  Executing \"help('string')\"\n",
      "has the same effect as typing a particular string at the help> prompt.\n"
     ]
    }
   ],
   "source": [
    "help()"
   ]
  },
  {
   "cell_type": "markdown",
   "metadata": {},
   "source": [
    "# simple programs"
   ]
  },
  {
   "cell_type": "code",
   "execution_count": 29,
   "metadata": {},
   "outputs": [
    {
     "name": "stdout",
     "output_type": "stream",
     "text": [
      "The weather in celsius is 30.\n",
      "The weather in farenheit is 86.0\n"
     ]
    }
   ],
   "source": [
    "# write a program that asks the user for weather in celsius and then the program converts the weather to farenheit\n",
    "celsius = input('what is the temperature in celsius? ')\n",
    "fahrenheit = (float(celsius) * 9/5) + 32\n",
    "print(f\"The weather in celsius is {celsius}.\")\n",
    "print(f\"The weather in farenheit is {fahrenheit}\")"
   ]
  },
  {
   "cell_type": "code",
   "execution_count": 30,
   "metadata": {},
   "outputs": [
    {
     "name": "stdout",
     "output_type": "stream",
     "text": [
      "The weather in farenheit is 100.\n",
      "The weather in celsius is 37.77777777777778\n"
     ]
    }
   ],
   "source": [
    "# write a program that asks the user for weather in farenheit and then the program converts the weather to celsius\n",
    "fahrenheit = input('what is the temperature in farenheit? ')\n",
    "celsius = (float(fahrenheit) - 32) * 5/9\n",
    "print(f\"The weather in farenheit is {fahrenheit}.\")\n",
    "print(f\"The weather in celsius is {celsius}\")"
   ]
  },
  {
   "cell_type": "code",
   "execution_count": 31,
   "metadata": {},
   "outputs": [
    {
     "name": "stdout",
     "output_type": "stream",
     "text": [
      "The area of the circle is 19.625\n"
     ]
    }
   ],
   "source": [
    "# ask the user for the radius of an area then print the area\n",
    "user_input = float(input('Please enter the radius of the circle: >>>'))\n",
    "pi = 3.14\n",
    "area = pi * radius ** 2\n",
    "print(f\"The area of the circle is {area}\")"
   ]
  },
  {
   "cell_type": "code",
   "execution_count": 32,
   "metadata": {},
   "outputs": [
    {
     "name": "stdout",
     "output_type": "stream",
     "text": [
      "656\n"
     ]
    }
   ],
   "source": [
    "# obtain the sum of two integers\n",
    "first = int(input('Please, enter the first integer: '))\n",
    "second = int(input('Please, enter the second integer: '))\n",
    "result = first + second\n",
    "print(result)"
   ]
  },
  {
   "cell_type": "code",
   "execution_count": 33,
   "metadata": {},
   "outputs": [
    {
     "name": "stdout",
     "output_type": "stream",
     "text": [
      "The result of the product of 10 and 20 is 200 \n"
     ]
    }
   ],
   "source": [
    "# obtain the product of two integers\n",
    "first_int = int(input('Enter first integer: '))\n",
    "second_int = int(input('Enter second integer: '))\n",
    "result = f\"The result of the product of {first_int} and {second_int} is {first_int * second_int} \"\n",
    "print(result)"
   ]
  },
  {
   "cell_type": "code",
   "execution_count": 35,
   "metadata": {},
   "outputs": [
    {
     "name": "stdout",
     "output_type": "stream",
     "text": [
      "You will need 3 pizzas to feed all the people.\n",
      "You will have 2 slices left over.\n"
     ]
    }
   ],
   "source": [
    "total_slices = 4 * 4\n",
    "number_of_pizzas = (total_slices + 5) // 6\n",
    "slices_left = number_of_pizzas * 6 - total_slices\n",
    "print(f\"You will need {number_of_pizzas} pizzas to feed all the people.\")\n",
    "print(f\"You will have {slices_left} slices left over.\")"
   ]
  },
  {
   "cell_type": "code",
   "execution_count": 40,
   "metadata": {},
   "outputs": [
    {
     "name": "stdout",
     "output_type": "stream",
     "text": [
      "1345\n"
     ]
    }
   ],
   "source": [
    "# given two numbers, write a program that will find the maximum number\n",
    "x = 786\n",
    "y = 1345\n",
    "\n",
    "if x >= y: print(x)\n",
    "elif y >= x: print(y)"
   ]
  },
  {
   "cell_type": "code",
   "execution_count": 45,
   "metadata": {},
   "outputs": [
    {
     "name": "stdout",
     "output_type": "stream",
     "text": [
      "The factorial of 20 is 8828514807271391232000000\n"
     ]
    }
   ],
   "source": [
    "# find the factorial of an integer\n",
    "fact = 1\n",
    "num = int(input(\"Enter an integer to calculate factorial: \"))\n",
    "for n in range(1, num+1):\n",
    "    factorial = factorial * n\n",
    "print(f\"The factorial of {num} is {factorial}\")\n"
   ]
  },
  {
   "cell_type": "code",
   "execution_count": 50,
   "metadata": {},
   "outputs": [
    {
     "name": "stdout",
     "output_type": "stream",
     "text": [
      "the fibonacci of 10 is 55\n"
     ]
    }
   ],
   "source": [
    "# find the fibonacci of a number\n",
    "fib = 1\n",
    "fibonacci = 0\n",
    "num = int(input('enter an integer to calculate fibonacci: '))\n",
    "for n in range(1, num+1):\n",
    "    fibonacci = fibonacci + fib\n",
    "    fib = fibonacci - fib\n",
    "print(f'the fibonacci of {num} is {fibonacci}')"
   ]
  },
  {
   "cell_type": "markdown",
   "metadata": {},
   "source": [
    "# conditionals"
   ]
  },
  {
   "cell_type": "code",
   "execution_count": 2,
   "metadata": {},
   "outputs": [
    {
     "name": "stdout",
     "output_type": "stream",
     "text": [
      "45\n"
     ]
    }
   ],
   "source": [
    "x = int(input('enter an integer: '))\n",
    "y = int(input('enter another integer: '))\n",
    "result = x if x > y else y\n",
    "print(result)"
   ]
  },
  {
   "cell_type": "code",
   "execution_count": 6,
   "metadata": {},
   "outputs": [
    {
     "name": "stdout",
     "output_type": "stream",
     "text": [
      "warm\n"
     ]
    }
   ],
   "source": [
    "weather = int(input('What is the weather like? '))\n",
    "res = 'hot' if weather >=20 else 'warm' if weather >=10 else 'cold' if weather >=0 else 'freezing'\n",
    "print(res)"
   ]
  },
  {
   "cell_type": "code",
   "execution_count": 7,
   "metadata": {},
   "outputs": [
    {
     "name": "stdout",
     "output_type": "stream",
     "text": [
      "[1, 3, 5, 7, 9]\n"
     ]
    }
   ],
   "source": [
    "nums = [1, 2, 3, 4, 5, 6, 7, 8, 9, 10]\n",
    "odds = [num for num in nums if num % 2 != 0]\n",
    "print(odds)"
   ]
  },
  {
   "cell_type": "code",
   "execution_count": 13,
   "metadata": {},
   "outputs": [
    {
     "name": "stdout",
     "output_type": "stream",
     "text": [
      "[True, True, True, True, True]\n"
     ]
    }
   ],
   "source": [
    "x = [1,2,3,4,5]\n",
    "y = [6,7,8,9,10]\n",
    "res = [True for x, y in zip(x, y) if y > x]\n",
    "print(res)"
   ]
  },
  {
   "cell_type": "code",
   "execution_count": 16,
   "metadata": {},
   "outputs": [
    {
     "name": "stdout",
     "output_type": "stream",
     "text": [
      "[30]\n"
     ]
    }
   ],
   "source": [
    "x, y, z = 10, 20, 30\n",
    "res = [x if x >= y else y if y >= z else z]\n",
    "print(res)"
   ]
  },
  {
   "cell_type": "code",
   "execution_count": 20,
   "metadata": {},
   "outputs": [
    {
     "name": "stdout",
     "output_type": "stream",
     "text": [
      "number = [21]\n"
     ]
    }
   ],
   "source": [
    "from random import randint\n",
    "x, y, z = randint(1, 10), randint(10, 20), randint(20, 30)\n",
    "res = [x if x >= y else y if y >= z else z]\n",
    "print(f\"number = {res}\")"
   ]
  },
  {
   "cell_type": "code",
   "execution_count": 24,
   "metadata": {},
   "outputs": [
    {
     "name": "stdout",
     "output_type": "stream",
     "text": [
      "-10\n",
      "freezing\n"
     ]
    }
   ],
   "source": [
    "temp = int(input('Enter the temperature in Celsius: >>>'))\n",
    "res = 'wear some light clothes' if temp >= 20 else 'wear something light but not too light' if temp >= 10 else 'bring a jacket' if temp >= 0 else 'freezing'\n",
    "print(temp)\n",
    "print(res)"
   ]
  },
  {
   "cell_type": "code",
   "execution_count": 36,
   "metadata": {},
   "outputs": [
    {
     "name": "stdout",
     "output_type": "stream",
     "text": [
      "you lose\n"
     ]
    }
   ],
   "source": [
    "word = 'winter'\n",
    "guess = input('Enter a word. (Hint: it is a season.): ')\n",
    "print('you win' if guess == word else 'you lose')\n",
    "\n"
   ]
  },
  {
   "cell_type": "code",
   "execution_count": 39,
   "metadata": {},
   "outputs": [
    {
     "name": "stdout",
     "output_type": "stream",
     "text": [
      "seven\n"
     ]
    }
   ],
   "source": [
    "# not a very good example of using if statements\n",
    "user_input = int(input('Enter a number between 1 and 10: '))\n",
    "print('one' if user_input == 1 else 'two' if user_input == 2 else 'three' if user_input == 3 else 'four' if user_input == 4 else 'five' if user_input == 5 else 'six' if user_input == 6 else 'seven' if user_input == 7 else 'eight' if user_input == 8 else 'nine' if user_input == 9 else 'ten' if user_input == 10 else 'not a number between 1 and 10')"
   ]
  },
  {
   "cell_type": "code",
   "execution_count": 42,
   "metadata": {},
   "outputs": [
    {
     "name": "stdout",
     "output_type": "stream",
     "text": [
      "you guessed too low\n"
     ]
    }
   ],
   "source": [
    "secret_number = randint(1, 10)\n",
    "guess = int(input('Guess a number between 1 and 10: '))\n",
    "print('you win' if guess == secret_number else 'you guessed too high' if guess > 10 else 'you guessed too low' if guess < 1 else 'you guessed wrong')"
   ]
  },
  {
   "cell_type": "code",
   "execution_count": 45,
   "metadata": {},
   "outputs": [
    {
     "name": "stdout",
     "output_type": "stream",
     "text": [
      "you entered 15 and 15\n",
      "0\n"
     ]
    }
   ],
   "source": [
    "num_one = int(input('Enter an integer between 1 and 10: '))\n",
    "num_two = int(input('Enter another integer between 10 and 20: '))\n",
    "print(f'you entered {num_one} and {num_two}')\n",
    "if num_one > 15 and num_two > 15: print(num_one * num_two)\n",
    "elif num_one > 15 or num_two > 15: print(num_one + num_two)\n",
    "else: print(num_one - num_two)\n"
   ]
  },
  {
   "cell_type": "code",
   "execution_count": 46,
   "metadata": {},
   "outputs": [
    {
     "name": "stdout",
     "output_type": "stream",
     "text": [
      "Before swapping first integer = 30 and second integer = 50\n",
      "After swapping first integer = 50 and second integer = 30\n"
     ]
    }
   ],
   "source": [
    "first = int(input('Enter first integer: '))\n",
    "second = int(input('Enter second integer: '))\n",
    "print(f'Before swapping first integer = {first} and second integer = {second}')\n",
    "first, second = second, first\n",
    "print(f'After swapping first integer = {first} and second integer = {second}')"
   ]
  },
  {
   "cell_type": "code",
   "execution_count": null,
   "metadata": {},
   "outputs": [],
   "source": []
  },
  {
   "cell_type": "markdown",
   "metadata": {},
   "source": [
    "# loops"
   ]
  },
  {
   "cell_type": "code",
   "execution_count": 54,
   "metadata": {},
   "outputs": [
    {
     "name": "stdout",
     "output_type": "stream",
     "text": [
      "2\n",
      "4\n",
      "6\n",
      "8\n",
      "10\n"
     ]
    },
    {
     "data": {
      "text/plain": [
       "[None, None, None, None, None]"
      ]
     },
     "execution_count": 54,
     "metadata": {},
     "output_type": "execute_result"
    }
   ],
   "source": [
    "nums = [1,2,3,4,5,6,7,8,9,10]\n",
    "[print(num) for num in nums if num % 2 == 0]"
   ]
  },
  {
   "cell_type": "code",
   "execution_count": 57,
   "metadata": {},
   "outputs": [
    {
     "name": "stdout",
     "output_type": "stream",
     "text": [
      "1\n",
      "2\n",
      "3\n",
      "4\n",
      "5\n",
      "6\n",
      "7\n",
      "8\n",
      "9\n",
      "10\n"
     ]
    },
    {
     "data": {
      "text/plain": [
       "[None, None, None, None, None, None, None, None, None, None]"
      ]
     },
     "execution_count": 57,
     "metadata": {},
     "output_type": "execute_result"
    }
   ],
   "source": [
    "[print(n) for n in range(1, 11)]"
   ]
  },
  {
   "cell_type": "code",
   "execution_count": 61,
   "metadata": {},
   "outputs": [
    {
     "name": "stdout",
     "output_type": "stream",
     "text": [
      "1 3 5 7 9 11 13 15 17 19 "
     ]
    }
   ],
   "source": [
    "for x in range(1, 20, 2):\n",
    "    print(x, end=' ')"
   ]
  },
  {
   "cell_type": "code",
   "execution_count": 63,
   "metadata": {},
   "outputs": [
    {
     "name": "stdout",
     "output_type": "stream",
     "text": [
      "h\n",
      "e\n",
      "l\n",
      "l\n",
      "o\n"
     ]
    }
   ],
   "source": [
    "word = 'hello'\n",
    "for w in word:\n",
    "    print(w)"
   ]
  },
  {
   "cell_type": "code",
   "execution_count": 64,
   "metadata": {},
   "outputs": [
    {
     "name": "stdout",
     "output_type": "stream",
     "text": [
      "it's hot. wear some light clothes.\n"
     ]
    }
   ],
   "source": [
    "hot = True\n",
    "while hot:\n",
    "    print(\"it's hot. wear some light clothes.\")\n",
    "    hot = False"
   ]
  },
  {
   "cell_type": "code",
   "execution_count": 65,
   "metadata": {},
   "outputs": [
    {
     "name": "stdout",
     "output_type": "stream",
     "text": [
      "you have 3 lives left\n",
      "you have 2 lives left\n",
      "you have 1 lives left\n"
     ]
    }
   ],
   "source": [
    "lives = 3\n",
    "while lives > 0 and lives <= 3:\n",
    "    print(f'you have {lives} lives left')\n",
    "    lives -= 1"
   ]
  },
  {
   "cell_type": "code",
   "execution_count": 71,
   "metadata": {},
   "outputs": [
    {
     "name": "stdout",
     "output_type": "stream",
     "text": [
      "you guessed it wrong. Try again.\n",
      "you guessed it wrong. Try again.\n",
      "you guessed it wrong. Try again.\n",
      "you lose\n"
     ]
    }
   ],
   "source": [
    "tries = 0\n",
    "secret_number = randint(1, 10)\n",
    "while tries < 3:\n",
    "    guess = int(input('Enter a number between 1 and 10: '))\n",
    "    if guess == secret_number:\n",
    "        print('you win')\n",
    "        break\n",
    "    tries += 1\n",
    "    print('you guessed it wrong. Try again.')\n",
    "else:\n",
    "    if tries == 3:\n",
    "        print('you lose')\n",
    "    "
   ]
  },
  {
   "cell_type": "code",
   "execution_count": null,
   "metadata": {},
   "outputs": [],
   "source": []
  }
 ],
 "metadata": {
  "interpreter": {
   "hash": "aee8b7b246df8f9039afb4144a1f6fd8d2ca17a180786b69acc140d282b71a49"
  },
  "kernelspec": {
   "display_name": "Python 3.9.7 64-bit",
   "name": "python3"
  },
  "language_info": {
   "codemirror_mode": {
    "name": "ipython",
    "version": 3
   },
   "file_extension": ".py",
   "mimetype": "text/x-python",
   "name": "python",
   "nbconvert_exporter": "python",
   "pygments_lexer": "ipython3",
   "version": "3.9.7"
  },
  "orig_nbformat": 4
 },
 "nbformat": 4,
 "nbformat_minor": 2
}
